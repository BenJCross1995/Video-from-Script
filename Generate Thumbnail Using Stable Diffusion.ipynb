{
 "cells": [
  {
   "cell_type": "markdown",
   "id": "8dc07dc9",
   "metadata": {},
   "source": [
    "# Generate Thumbnail Using Stable Diffusion"
   ]
  },
  {
   "cell_type": "markdown",
   "id": "3cf69d4e",
   "metadata": {},
   "source": [
    "This script uses Stable Diffusion to generate images used for thumbnails in YouTube videos. The website i used for the script is https://medium.com/grabngoinfo/creat-beautiful-ai-art-using-python-kerascv-stablediffusion-on-google-colab-628ded302047 and the documentation of the text_to_image function is here - https://huggingface.co/docs/diffusers/api/pipelines/stable_diffusion/text2img"
   ]
  },
  {
   "cell_type": "markdown",
   "id": "33e384da",
   "metadata": {},
   "source": [
    "## Import Libraries"
   ]
  },
  {
   "cell_type": "code",
   "execution_count": 17,
   "id": "18d83573",
   "metadata": {},
   "outputs": [],
   "source": [
    "# Model\n",
    "import tensorflow as tf\n",
    "config = tf.compat.v1.ConfigProto()\n",
    "config.gpu_options.allow_growth = True\n",
    "sess = tf.compat.v1.Session(config=config)\n",
    "\n",
    "from tensorflow import keras\n",
    "\n",
    "import  keras_cv\n",
    "\n",
    "keras.mixed_precision.set_global_policy(\"mixed_float16\")\n",
    "\n",
    "# Visualization\n",
    "import matplotlib.pyplot as plt\n",
    "\n",
    "# Save the image\n",
    "from PIL import Image"
   ]
  },
  {
   "cell_type": "markdown",
   "id": "4db5493f",
   "metadata": {},
   "source": [
    "## Create the Model"
   ]
  },
  {
   "cell_type": "code",
   "execution_count": 22,
   "id": "c11ea654",
   "metadata": {},
   "outputs": [
    {
     "name": "stdout",
     "output_type": "stream",
     "text": [
      "By using this model checkpoint, you acknowledge that its usage is subject to the terms of the CreativeML Open RAIL-M license at https://raw.githubusercontent.com/CompVis/stable-diffusion/main/LICENSE\n"
     ]
    }
   ],
   "source": [
    "import random\n",
    "random.seed(42)\n",
    "\n",
    "# Create a model\n",
    "# 1280, 720\n",
    "model = keras_cv.models.StableDiffusion(img_height=400, \n",
    "                                        img_width=400,\n",
    "                                        jit_compile=True)"
   ]
  },
  {
   "cell_type": "markdown",
   "id": "a97a82fa",
   "metadata": {},
   "source": [
    "## Function for Plotting all Images"
   ]
  },
  {
   "cell_type": "code",
   "execution_count": 23,
   "id": "48379cfb",
   "metadata": {},
   "outputs": [],
   "source": [
    "def plot_images(images):\n",
    "    # Set figure size\n",
    "    plt.figure(figsize=(20, 20))\n",
    "    # Loop through each image\n",
    "    for i in range(len(images)):\n",
    "        # Subplot setup\n",
    "        ax = plt.subplot(1, len(images), i + 1)\n",
    "        # Plot each image\n",
    "        plt.imshow(images[i])\n",
    "        # Do not show axis\n",
    "        plt.axis(\"off\")"
   ]
  },
  {
   "cell_type": "markdown",
   "id": "69c51909",
   "metadata": {},
   "source": [
    "## Run the Model"
   ]
  },
  {
   "cell_type": "code",
   "execution_count": 24,
   "id": "b73220f7",
   "metadata": {},
   "outputs": [],
   "source": [
    "prompt_1 = \"A painting of a city by vincent van gogh, highly detailed, sharp focused, impressionism, oil painting\"\n",
    "prompt_2 = \"J. R. R. Tolkien walking through shire surrounded by Gandalf, Hobbits and a Balrog. Shire painted in watercolour, wideshot, high quality. Youtube thumbnail clickbait\""
   ]
  },
  {
   "cell_type": "code",
   "execution_count": null,
   "id": "5e76b0d7",
   "metadata": {},
   "outputs": [
    {
     "name": "stdout",
     "output_type": "stream",
     "text": [
      "WARNING:tensorflow:5 out of the last 56 calls to <function Model.make_predict_function.<locals>.predict_function at 0x00000235DE6764C0> triggered tf.function retracing. Tracing is expensive and the excessive number of tracings could be due to (1) creating @tf.function repeatedly in a loop, (2) passing tensors with different shapes, (3) passing Python objects instead of tensors. For (1), please define your @tf.function outside of the loop. For (2), @tf.function has reduce_retracing=True option that can avoid unnecessary retracing. For (3), please refer to https://www.tensorflow.org/guide/function#controlling_retracing and https://www.tensorflow.org/api_docs/python/tf/function for  more details.\n",
      "15/25 [=================>............] - ETA: 9:57 "
     ]
    }
   ],
   "source": [
    "random.seed(84)\n",
    "\n",
    "# Create images from text, batch size is number of images produced.\n",
    "images = model.text_to_image(prompt=prompt_2,\n",
    "                             num_steps=25,  # Number of iterations (controls image quality)\n",
    "                             seed=42,  # Set this to always get the same image from the same prompt\n",
    "                             batch_size=8)"
   ]
  },
  {
   "cell_type": "markdown",
   "id": "b0bd51b0",
   "metadata": {},
   "source": [
    "## Plot and Save Imgaes"
   ]
  },
  {
   "cell_type": "code",
   "execution_count": null,
   "id": "4328c20c",
   "metadata": {},
   "outputs": [],
   "source": [
    "# Plot the images\n",
    "plot_images(images)"
   ]
  },
  {
   "cell_type": "code",
   "execution_count": 16,
   "id": "9fe80b4e",
   "metadata": {},
   "outputs": [],
   "source": [
    "# Save images\n",
    "Image.fromarray(images[0]).save(\"tester.png\")"
   ]
  }
 ],
 "metadata": {
  "kernelspec": {
   "display_name": "Python 3 (ipykernel)",
   "language": "python",
   "name": "python3"
  },
  "language_info": {
   "codemirror_mode": {
    "name": "ipython",
    "version": 3
   },
   "file_extension": ".py",
   "mimetype": "text/x-python",
   "name": "python",
   "nbconvert_exporter": "python",
   "pygments_lexer": "ipython3",
   "version": "3.8.16"
  }
 },
 "nbformat": 4,
 "nbformat_minor": 5
}
