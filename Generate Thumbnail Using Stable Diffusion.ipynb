{
 "cells": [
  {
   "cell_type": "markdown",
   "id": "8dc07dc9",
   "metadata": {},
   "source": [
    "# Generate Thumbnail Using Stable Diffusion"
   ]
  },
  {
   "cell_type": "markdown",
   "id": "3cf69d4e",
   "metadata": {},
   "source": [
    "This script uses Stable Diffusion to generate images used for thumbnails in YouTube videos. The website i used for the script is https://medium.com/grabngoinfo/creat-beautiful-ai-art-using-python-kerascv-stablediffusion-on-google-colab-628ded302047 and the documentation of the text_to_image function is here - https://huggingface.co/docs/diffusers/api/pipelines/stable_diffusion/text2img"
   ]
  },
  {
   "cell_type": "markdown",
   "id": "33e384da",
   "metadata": {},
   "source": [
    "## Import Libraries"
   ]
  },
  {
   "cell_type": "code",
   "execution_count": null,
   "id": "18d83573",
   "metadata": {},
   "outputs": [],
   "source": [
    "# Model\n",
    "from tensorflow import keras\n",
    "import  keras_cv\n",
    "keras.mixed_precision.set_global_policy(\"mixed_float16\")\n",
    "\n",
    "# Visualization\n",
    "import matplotlib.pyplot as plt\n",
    "\n",
    "# Save the image\n",
    "from PIL import Image"
   ]
  },
  {
   "cell_type": "markdown",
   "id": "4db5493f",
   "metadata": {},
   "source": [
    "## Create the Model"
   ]
  },
  {
   "cell_type": "code",
   "execution_count": null,
   "id": "c11ea654",
   "metadata": {},
   "outputs": [],
   "source": [
    "random.seed(42)\n",
    "\n",
    "# Create a model\n",
    "model = keras_cv.models.StableDiffusion(img_height=400, \n",
    "                                        img_width=400,\n",
    "                                        jit_compile=True)"
   ]
  },
  {
   "cell_type": "markdown",
   "id": "a97a82fa",
   "metadata": {},
   "source": [
    "## Function for Plotting all Images"
   ]
  },
  {
   "cell_type": "code",
   "execution_count": null,
   "id": "48379cfb",
   "metadata": {},
   "outputs": [],
   "source": [
    "def plot_images(images):\n",
    "    # Set figure size\n",
    "    plt.figure(figsize=(20, 20))\n",
    "    # Loop through each image\n",
    "    for i in range(len(images)):\n",
    "        # Subplot setup\n",
    "        ax = plt.subplot(1, len(images), i + 1)\n",
    "        # Plot each image\n",
    "        plt.imshow(images[i])\n",
    "        # Do not show axis\n",
    "        plt.axis(\"off\")"
   ]
  },
  {
   "cell_type": "markdown",
   "id": "69c51909",
   "metadata": {},
   "source": [
    "## Run the Model"
   ]
  },
  {
   "cell_type": "code",
   "execution_count": null,
   "id": "b73220f7",
   "metadata": {},
   "outputs": [],
   "source": [
    "prompt_1 = \"A painting of a city by vincent van gogh, highly detailed, sharp focused, impressionism, oil painting\"\n",
    "prompt_2 = \"Einstein in modern art style, leaning against wall\""
   ]
  },
  {
   "cell_type": "code",
   "execution_count": null,
   "id": "5e76b0d7",
   "metadata": {},
   "outputs": [],
   "source": [
    "random.seed(84)\n",
    "\n",
    "# Create images from text, batch size is number of images produced.\n",
    "images = model.text_to_image(prompt=prompt_2,\n",
    "                             batch_size=2)"
   ]
  },
  {
   "cell_type": "markdown",
   "id": "b0bd51b0",
   "metadata": {},
   "source": [
    "## Plot and Save Imgaes"
   ]
  },
  {
   "cell_type": "code",
   "execution_count": null,
   "id": "4328c20c",
   "metadata": {},
   "outputs": [],
   "source": [
    "# Plot the images\n",
    "plot_images(images)"
   ]
  },
  {
   "cell_type": "code",
   "execution_count": null,
   "id": "9fe80b4e",
   "metadata": {},
   "outputs": [],
   "source": [
    "# Save images\n",
    "Image.fromarray(images[0]).save(\"Einstein1.png\")"
   ]
  }
 ],
 "metadata": {
  "kernelspec": {
   "display_name": "Python 3 (ipykernel)",
   "language": "python",
   "name": "python3"
  },
  "language_info": {
   "codemirror_mode": {
    "name": "ipython",
    "version": 3
   },
   "file_extension": ".py",
   "mimetype": "text/x-python",
   "name": "python",
   "nbconvert_exporter": "python",
   "pygments_lexer": "ipython3",
   "version": "3.10.9"
  }
 },
 "nbformat": 4,
 "nbformat_minor": 5
}
