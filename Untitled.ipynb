{
 "cells": [
  {
   "cell_type": "code",
   "execution_count": 3,
   "id": "e50fb5d5",
   "metadata": {},
   "outputs": [],
   "source": [
    "import pyttsx3 # Text to speech\n",
    "  \n",
    "engine = pyttsx3.init()\n",
    "\n",
    "# Set the voice\n",
    "engine.setProperty('voice',\n",
    "                       'HKEY_LOCAL_MACHINE\\SOFTWARE\\Microsoft\\Speech\\Voices\\Tokens\\TTS_MS_EN-US_ZIRA_11.0')\n",
    "  \n",
    "# Set the talking rate\n",
    "rate = engine.getProperty('rate')\n",
    "engine.setProperty('rate', rate-50)"
   ]
  },
  {
   "cell_type": "code",
   "execution_count": 4,
   "id": "2eac7c7b",
   "metadata": {},
   "outputs": [],
   "source": [
    "# Initialise the engine and set some parameters\n",
    "engine = pyttsx3.init()"
   ]
  },
  {
   "cell_type": "code",
   "execution_count": 5,
   "id": "dfbede51",
   "metadata": {},
   "outputs": [
    {
     "data": {
      "text/plain": [
       "[<pyttsx3.voice.Voice at 0x29c82901d90>,\n",
       " <pyttsx3.voice.Voice at 0x29c823b6430>,\n",
       " <pyttsx3.voice.Voice at 0x29c8271e430>]"
      ]
     },
     "execution_count": 5,
     "metadata": {},
     "output_type": "execute_result"
    }
   ],
   "source": [
    "engine.getProperty('voices')"
   ]
  },
  {
   "cell_type": "code",
   "execution_count": 6,
   "id": "15258cb3",
   "metadata": {},
   "outputs": [
    {
     "name": "stdout",
     "output_type": "stream",
     "text": [
      "<Voice id=HKEY_LOCAL_MACHINE\\SOFTWARE\\Microsoft\\Speech\\Voices\\Tokens\\TTS_MS_EN-US_DAVID_11.0\n",
      "          name=Microsoft David Desktop - English (United States)\n",
      "          languages=[]\n",
      "          gender=None\n",
      "          age=None> HKEY_LOCAL_MACHINE\\SOFTWARE\\Microsoft\\Speech\\Voices\\Tokens\\TTS_MS_EN-US_DAVID_11.0\n",
      "<Voice id=HKEY_LOCAL_MACHINE\\SOFTWARE\\Microsoft\\Speech\\Voices\\Tokens\\TTS_MS_EN-GB_HAZEL_11.0\n",
      "          name=Microsoft Hazel Desktop - English (Great Britain)\n",
      "          languages=[]\n",
      "          gender=None\n",
      "          age=None> HKEY_LOCAL_MACHINE\\SOFTWARE\\Microsoft\\Speech\\Voices\\Tokens\\TTS_MS_EN-GB_HAZEL_11.0\n",
      "<Voice id=HKEY_LOCAL_MACHINE\\SOFTWARE\\Microsoft\\Speech\\Voices\\Tokens\\TTS_MS_EN-US_ZIRA_11.0\n",
      "          name=Microsoft Zira Desktop - English (United States)\n",
      "          languages=[]\n",
      "          gender=None\n",
      "          age=None> HKEY_LOCAL_MACHINE\\SOFTWARE\\Microsoft\\Speech\\Voices\\Tokens\\TTS_MS_EN-US_ZIRA_11.0\n"
     ]
    }
   ],
   "source": [
    "import pyttsx3\n",
    "engine = pyttsx3.init()\n",
    "voices = engine.getProperty('voices')\n",
    "for voice in voices:\n",
    "    print(voice, voice.id)\n",
    "    engine.setProperty('voice', voice.id)\n",
    "    engine.say(\"Hello World!\")\n",
    "    engine.runAndWait()\n",
    "    engine.stop()"
   ]
  },
  {
   "cell_type": "code",
   "execution_count": 88,
   "id": "fb097ff2",
   "metadata": {},
   "outputs": [],
   "source": [
    "import os\n",
    "import pygame\n",
    "import docx2txt # Import word files"
   ]
  },
  {
   "cell_type": "code",
   "execution_count": null,
   "id": "d24c4792",
   "metadata": {},
   "outputs": [],
   "source": [
    "edge-tts --text \"Hello, world!\" --write-media hello.mp3\n",
    "f'edge-tts --pitch=\"{pitch}\" --rate=\"{rate}\" --volume=\"{volume}\" --voice \"{voice}\" --text \"{text}\" --write-media \"{filename}\"'"
   ]
  },
  {
   "cell_type": "code",
   "execution_count": 105,
   "id": "3a04e3bd",
   "metadata": {},
   "outputs": [],
   "source": [
    "def speak(data):\n",
    "    voice1 = \"en-GB-SoniaNeural\"\n",
    "    filename = \"data.mp3\"\n",
    "\n",
    "    # Split the input text into chunks\n",
    "    chunks = data.split()\n",
    "    chunk_size = 100\n",
    "    chunks = [chunks[i:i + chunk_size] for i in range(0, len(chunks), chunk_size)]\n",
    "    # Convert and play each chunk\n",
    "    for chunk in chunks:\n",
    "        print(chunk)\n",
    "        text = ' '.join(chunk)\n",
    "        print(text)\n",
    "        print(len(text))\n",
    "        command1 = f'edge-tts --voice \"{voice1}\" --text \"{text}\" --write-media \"{filename}\"'\n",
    "        print(command1)\n",
    "        os.system(command1)\n",
    "\n",
    "        pygame.init()\n",
    "        pygame.mixer.init()\n",
    "        pygame.mixer.music.load(\"data.mp3\")\n",
    "\n",
    "        try:\n",
    "            pygame.mixer.music.play()\n",
    "\n",
    "            while pygame.mixer.music.get_busy():\n",
    "                pygame.time.Clock().tick(10)\n",
    "\n",
    "        except Exception as e:\n",
    "            print(e)\n",
    "        finally:\n",
    "            pygame.mixer.music.stop()\n",
    "            pygame.mixer.quit()\n",
    "    return True"
   ]
  },
  {
   "cell_type": "code",
   "execution_count": null,
   "id": "1bf0a463",
   "metadata": {
    "scrolled": true
   },
   "outputs": [
    {
     "name": "stdout",
     "output_type": "stream",
     "text": [
      "['Welcome', 'to', 'Figures', 'in', 'History!', 'The', 'channel', 'where', 'we', 'delve', 'into', 'the', 'lives', 'of', 'remarkable', 'individuals', 'who', 'shaped', 'the', 'world', 'we', 'live', 'in', 'today.', 'From', 'visionaries', 'and', 'leaders', 'to', 'artists', 'and', 'innovators,', 'we', 'bring', 'you', 'ten', 'key', 'facts', 'about', 'some', 'of', 'the', 'most', 'influential', 'figures', 'from', 'throughout', 'history.', 'Prepare', 'to', 'embark', 'on', 'a', 'captivating', 'journey', 'through', 'time,', 'as', 'we', 'uncover', 'the', 'intriguing', 'stories', 'behind', 'these', 'remarkable', 'people.', 'In', 'each', 'episode,', \"we'll\", 'unveil', 'fascinating', 'details,', 'shedding', 'light', 'on', 'their', 'accomplishments,', 'struggles,', 'and', 'the', 'lasting', 'impact', \"they've\", 'had', 'on', 'our', 'world.']\n",
      "Welcome to Figures in History! The channel where we delve into the lives of remarkable individuals who shaped the world we live in today. From visionaries and leaders to artists and innovators, we bring you ten key facts about some of the most influential figures from throughout history. Prepare to embark on a captivating journey through time, as we uncover the intriguing stories behind these remarkable people. In each episode, we'll unveil fascinating details, shedding light on their accomplishments, struggles, and the lasting impact they've had on our world.\n",
      "566\n",
      "edge-tts --voice \"en-GB-SoniaNeural\" --text \"Welcome to Figures in History! The channel where we delve into the lives of remarkable individuals who shaped the world we live in today. From visionaries and leaders to artists and innovators, we bring you ten key facts about some of the most influential figures from throughout history. Prepare to embark on a captivating journey through time, as we uncover the intriguing stories behind these remarkable people. In each episode, we'll unveil fascinating details, shedding light on their accomplishments, struggles, and the lasting impact they've had on our world.\" --write-media \"data.mp3\"\n"
     ]
    }
   ],
   "source": [
    "\n",
    "my_text = docx2txt.process(\"./Set Scripts/Intro.docx\")\n",
    "speak(my_text)\n"
   ]
  },
  {
   "cell_type": "code",
   "execution_count": 60,
   "id": "080a046c",
   "metadata": {},
   "outputs": [
    {
     "name": "stdout",
     "output_type": "stream",
     "text": [
      "Welcome to Figures in History! The channel where we delve into the lives of remarkable individuals who shaped the world we live in today. From visionaries and leaders to artists and innovators, we bring you ten key facts about some of the most influential figures from throughout history. Prepare to embark on a captivating journey through time, as we uncover the intriguing stories behind these remarkable people. In each episode, we'll unveil fascinating details, shedding light on their accomplishments, struggles, and the lasting impact they've had on our world.\n"
     ]
    }
   ],
   "source": [
    "print(my_text)"
   ]
  },
  {
   "cell_type": "code",
   "execution_count": 64,
   "id": "ce063a1b",
   "metadata": {},
   "outputs": [
    {
     "data": {
      "text/plain": [
       "566"
      ]
     },
     "execution_count": 64,
     "metadata": {},
     "output_type": "execute_result"
    }
   ],
   "source": [
    "len(my_text)"
   ]
  },
  {
   "cell_type": "code",
   "execution_count": 94,
   "id": "d58e04cf",
   "metadata": {
    "scrolled": true
   },
   "outputs": [
    {
     "ename": "KeyboardInterrupt",
     "evalue": "",
     "output_type": "error",
     "traceback": [
      "\u001b[1;31m---------------------------------------------------------------------------\u001b[0m",
      "\u001b[1;31mKeyboardInterrupt\u001b[0m                         Traceback (most recent call last)",
      "Cell \u001b[1;32mIn[94], line 2\u001b[0m\n\u001b[0;32m      1\u001b[0m my_text2 \u001b[38;5;241m=\u001b[39m docx2txt\u001b[38;5;241m.\u001b[39mprocess(\u001b[38;5;124m\"\u001b[39m\u001b[38;5;124m./Scripts/Albert Einstein.docx\u001b[39m\u001b[38;5;124m\"\u001b[39m)\n\u001b[1;32m----> 2\u001b[0m \u001b[43mspeak\u001b[49m\u001b[43m(\u001b[49m\u001b[43mmy_text2\u001b[49m\u001b[43m)\u001b[49m\n",
      "Cell \u001b[1;32mIn[92], line 24\u001b[0m, in \u001b[0;36mspeak\u001b[1;34m(data)\u001b[0m\n\u001b[0;32m     21\u001b[0m     pygame\u001b[38;5;241m.\u001b[39mmixer\u001b[38;5;241m.\u001b[39mmusic\u001b[38;5;241m.\u001b[39mplay()\n\u001b[0;32m     23\u001b[0m     \u001b[38;5;28;01mwhile\u001b[39;00m pygame\u001b[38;5;241m.\u001b[39mmixer\u001b[38;5;241m.\u001b[39mmusic\u001b[38;5;241m.\u001b[39mget_busy():\n\u001b[1;32m---> 24\u001b[0m         \u001b[43mpygame\u001b[49m\u001b[38;5;241;43m.\u001b[39;49m\u001b[43mtime\u001b[49m\u001b[38;5;241;43m.\u001b[39;49m\u001b[43mClock\u001b[49m\u001b[43m(\u001b[49m\u001b[43m)\u001b[49m\u001b[38;5;241;43m.\u001b[39;49m\u001b[43mtick\u001b[49m\u001b[43m(\u001b[49m\u001b[38;5;241;43m10\u001b[39;49m\u001b[43m)\u001b[49m\n\u001b[0;32m     26\u001b[0m \u001b[38;5;28;01mexcept\u001b[39;00m \u001b[38;5;167;01mException\u001b[39;00m \u001b[38;5;28;01mas\u001b[39;00m e:\n\u001b[0;32m     27\u001b[0m     \u001b[38;5;28mprint\u001b[39m(e)\n",
      "\u001b[1;31mKeyboardInterrupt\u001b[0m: "
     ]
    }
   ],
   "source": [
    "my_text2 = docx2txt.process(\"./Scripts/Albert Einstein.docx\")\n",
    "speak(my_text2)"
   ]
  },
  {
   "cell_type": "code",
   "execution_count": 106,
   "id": "472abb42",
   "metadata": {
    "scrolled": true
   },
   "outputs": [
    {
     "name": "stdout",
     "output_type": "stream",
     "text": [
      "[\"'Albert\", 'Einstein', 'was', 'born', 'on', 'March', '14,', '1879,', 'in', 'Ulm,', 'Germany.', 'He', 'was', 'the', 'son', 'of', 'Hermann', 'Einstein,', 'a', 'salesman,', 'and', 'Pauline', 'Koch,', 'a', 'housewife.', 'He', 'had', 'one', 'sister,', 'Maja.', \"Einstein's\", 'parents', 'were', 'secular', 'Jews,', 'but', 'Einstein', 'was', 'not', 'a', 'religious', 'person', 'himself.', 'Einstein', 'was', 'a', 'bright', 'child,', 'but', 'he', 'had', 'difficulty', 'in', 'school.', 'He', 'was', 'expelled', 'from', 'school', 'at', 'the', 'age', 'of', '15', 'for', 'being', 'a', 'disruptive', 'student.', 'He', 'later', 'said', 'that', 'he', 'was', '\"not', 'a', 'good', 'student', 'because', 'I', 'did', 'not', 'learn', 'the', 'same', 'way', 'as', 'other', 'children.\"', 'Einstein', 'failed', 'his', 'first', 'college', 'entrance', 'exam,', 'but', 'was', 'later']\n",
      "'Albert Einstein was born on March 14, 1879, in Ulm, Germany. He was the son of Hermann Einstein, a salesman, and Pauline Koch, a housewife. He had one sister, Maja. Einstein's parents were secular Jews, but Einstein was not a religious person himself. Einstein was a bright child, but he had difficulty in school. He was expelled from school at the age of 15 for being a disruptive student. He later said that he was \"not a good student because I did not learn the same way as other children.\" Einstein failed his first college entrance exam, but was later\n",
      "557\n",
      "edge-tts --voice \"en-GB-SoniaNeural\" --text \"'Albert Einstein was born on March 14, 1879, in Ulm, Germany. He was the son of Hermann Einstein, a salesman, and Pauline Koch, a housewife. He had one sister, Maja. Einstein's parents were secular Jews, but Einstein was not a religious person himself. Einstein was a bright child, but he had difficulty in school. He was expelled from school at the age of 15 for being a disruptive student. He later said that he was \"not a good student because I did not learn the same way as other children.\" Einstein failed his first college entrance exam, but was later\" --write-media \"data.mp3\"\n"
     ]
    },
    {
     "ename": "error",
     "evalue": "No file 'data.mp3' found in working directory 'C:\\Users\\benjc\\Documents\\GitHub\\Video-from-Script'.",
     "output_type": "error",
     "traceback": [
      "\u001b[1;31m---------------------------------------------------------------------------\u001b[0m",
      "\u001b[1;31merror\u001b[0m                                     Traceback (most recent call last)",
      "Cell \u001b[1;32mIn[106], line 5\u001b[0m\n\u001b[0;32m      3\u001b[0m my_text3\n\u001b[0;32m      4\u001b[0m \u001b[38;5;66;03m#my_text3 = print(my_text3)\u001b[39;00m\n\u001b[1;32m----> 5\u001b[0m \u001b[43mspeak\u001b[49m\u001b[43m(\u001b[49m\u001b[43mmy_text3\u001b[49m\u001b[43m)\u001b[49m\n",
      "Cell \u001b[1;32mIn[105], line 21\u001b[0m, in \u001b[0;36mspeak\u001b[1;34m(data)\u001b[0m\n\u001b[0;32m     19\u001b[0m pygame\u001b[38;5;241m.\u001b[39minit()\n\u001b[0;32m     20\u001b[0m pygame\u001b[38;5;241m.\u001b[39mmixer\u001b[38;5;241m.\u001b[39minit()\n\u001b[1;32m---> 21\u001b[0m \u001b[43mpygame\u001b[49m\u001b[38;5;241;43m.\u001b[39;49m\u001b[43mmixer\u001b[49m\u001b[38;5;241;43m.\u001b[39;49m\u001b[43mmusic\u001b[49m\u001b[38;5;241;43m.\u001b[39;49m\u001b[43mload\u001b[49m\u001b[43m(\u001b[49m\u001b[38;5;124;43m\"\u001b[39;49m\u001b[38;5;124;43mdata.mp3\u001b[39;49m\u001b[38;5;124;43m\"\u001b[39;49m\u001b[43m)\u001b[49m\n\u001b[0;32m     23\u001b[0m \u001b[38;5;28;01mtry\u001b[39;00m:\n\u001b[0;32m     24\u001b[0m     pygame\u001b[38;5;241m.\u001b[39mmixer\u001b[38;5;241m.\u001b[39mmusic\u001b[38;5;241m.\u001b[39mplay()\n",
      "\u001b[1;31merror\u001b[0m: No file 'data.mp3' found in working directory 'C:\\Users\\benjc\\Documents\\GitHub\\Video-from-Script'."
     ]
    }
   ],
   "source": [
    "my_text3 = docx2txt.process(\"./Scripts/Albert Einstein (NS).docx\")\n",
    "my_text3 = \"'\" + my_text3 + \"'\"\n",
    "my_text3\n",
    "#my_text3 = print(my_text3)\n",
    "speak(my_text3)"
   ]
  },
  {
   "cell_type": "code",
   "execution_count": 43,
   "id": "c954cc9a",
   "metadata": {},
   "outputs": [],
   "source": []
  },
  {
   "cell_type": "code",
   "execution_count": 20,
   "id": "b2f3f0c6",
   "metadata": {},
   "outputs": [
    {
     "data": {
      "text/plain": [
       "str"
      ]
     },
     "execution_count": 20,
     "metadata": {},
     "output_type": "execute_result"
    }
   ],
   "source": [
    "type(str(my_text2))"
   ]
  }
 ],
 "metadata": {
  "kernelspec": {
   "display_name": "Python 3 (ipykernel)",
   "language": "python",
   "name": "python3"
  },
  "language_info": {
   "codemirror_mode": {
    "name": "ipython",
    "version": 3
   },
   "file_extension": ".py",
   "mimetype": "text/x-python",
   "name": "python",
   "nbconvert_exporter": "python",
   "pygments_lexer": "ipython3",
   "version": "3.8.16"
  }
 },
 "nbformat": 4,
 "nbformat_minor": 5
}
