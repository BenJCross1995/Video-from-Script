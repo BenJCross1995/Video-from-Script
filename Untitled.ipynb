{
 "cells": [
  {
   "cell_type": "code",
   "execution_count": 3,
   "id": "92c36496",
   "metadata": {},
   "outputs": [],
   "source": [
    "import pyttsx3 # Text to speech\n",
    "  \n",
    "engine = pyttsx3.init()\n",
    "\n",
    "# Set the voice\n",
    "engine.setProperty('voice',\n",
    "                       'HKEY_LOCAL_MACHINE\\SOFTWARE\\Microsoft\\Speech\\Voices\\Tokens\\TTS_MS_EN-US_ZIRA_11.0')\n",
    "  \n",
    "# Set the talking rate\n",
    "rate = engine.getProperty('rate')\n",
    "engine.setProperty('rate', rate-50)"
   ]
  },
  {
   "cell_type": "code",
   "execution_count": 4,
   "id": "67d13803",
   "metadata": {},
   "outputs": [],
   "source": [
    "# Initialise the engine and set some parameters\n",
    "engine = pyttsx3.init()"
   ]
  },
  {
   "cell_type": "code",
   "execution_count": 5,
   "id": "2145149a",
   "metadata": {},
   "outputs": [
    {
     "data": {
      "text/plain": [
       "[<pyttsx3.voice.Voice at 0x29c82901d90>,\n",
       " <pyttsx3.voice.Voice at 0x29c823b6430>,\n",
       " <pyttsx3.voice.Voice at 0x29c8271e430>]"
      ]
     },
     "execution_count": 5,
     "metadata": {},
     "output_type": "execute_result"
    }
   ],
   "source": [
    "engine.getProperty('voices')"
   ]
  },
  {
   "cell_type": "code",
   "execution_count": 6,
   "id": "0ac306ae",
   "metadata": {},
   "outputs": [
    {
     "name": "stdout",
     "output_type": "stream",
     "text": [
      "<Voice id=HKEY_LOCAL_MACHINE\\SOFTWARE\\Microsoft\\Speech\\Voices\\Tokens\\TTS_MS_EN-US_DAVID_11.0\n",
      "          name=Microsoft David Desktop - English (United States)\n",
      "          languages=[]\n",
      "          gender=None\n",
      "          age=None> HKEY_LOCAL_MACHINE\\SOFTWARE\\Microsoft\\Speech\\Voices\\Tokens\\TTS_MS_EN-US_DAVID_11.0\n",
      "<Voice id=HKEY_LOCAL_MACHINE\\SOFTWARE\\Microsoft\\Speech\\Voices\\Tokens\\TTS_MS_EN-GB_HAZEL_11.0\n",
      "          name=Microsoft Hazel Desktop - English (Great Britain)\n",
      "          languages=[]\n",
      "          gender=None\n",
      "          age=None> HKEY_LOCAL_MACHINE\\SOFTWARE\\Microsoft\\Speech\\Voices\\Tokens\\TTS_MS_EN-GB_HAZEL_11.0\n",
      "<Voice id=HKEY_LOCAL_MACHINE\\SOFTWARE\\Microsoft\\Speech\\Voices\\Tokens\\TTS_MS_EN-US_ZIRA_11.0\n",
      "          name=Microsoft Zira Desktop - English (United States)\n",
      "          languages=[]\n",
      "          gender=None\n",
      "          age=None> HKEY_LOCAL_MACHINE\\SOFTWARE\\Microsoft\\Speech\\Voices\\Tokens\\TTS_MS_EN-US_ZIRA_11.0\n"
     ]
    }
   ],
   "source": [
    "import pyttsx3\n",
    "engine = pyttsx3.init()\n",
    "voices = engine.getProperty('voices')\n",
    "for voice in voices:\n",
    "    print(voice, voice.id)\n",
    "    engine.setProperty('voice', voice.id)\n",
    "    engine.say(\"Hello World!\")\n",
    "    engine.runAndWait()\n",
    "    engine.stop()"
   ]
  },
  {
   "cell_type": "code",
   "execution_count": 88,
   "id": "97aca7ae",
   "metadata": {},
   "outputs": [],
   "source": [
    "import os\n",
    "import pygame\n",
    "import docx2txt # Import word files"
   ]
  },
  {
   "cell_type": "code",
   "execution_count": null,
   "id": "4b91c194",
   "metadata": {},
   "outputs": [],
   "source": [
    "edge-tts --text \"Hello, world!\" --write-media hello.mp3\n",
    "f'edge-tts --pitch=\"{pitch}\" --rate=\"{rate}\" --volume=\"{volume}\" --voice \"{voice}\" --text \"{text}\" --write-media \"{filename}\"'"
   ]
  },
  {
   "cell_type": "code",
   "execution_count": 191,
   "id": "b42c7ea3",
   "metadata": {},
   "outputs": [],
   "source": [
    "def speak(data):\n",
    "    voice1 = \"en-GB-SoniaNeural\"\n",
    "    #filename = \"data.mp3\"\n",
    "\n",
    "    # Split the input text into chunks\n",
    "    chunks = data.split()\n",
    "    chunk_size = 90\n",
    "    chunks = [chunks[i:i + chunk_size] for i in range(0, len(chunks), chunk_size)]\n",
    "    chunks = [\"\"] + chunks + [\"\"]\n",
    "    print(len(chunks))\n",
    "    i = 0\n",
    "    # Convert and play each chunk\n",
    "    while i < len(chunks):\n",
    "\n",
    "        filename = \"abs\" + str(i) + \".mp3\"\n",
    "        \n",
    "        text = ' '.join(chunks[i - 1])\n",
    "        print(i)\n",
    "        print(text)\n",
    "        command1 = f'edge-tts --voice \"{voice1}\" --text \"{text}\" --write-media \"{filename}\"'\n",
    "\n",
    "        os.system(command1)\n",
    "        \n",
    "        #pygame.time.Clock().tick(1)\n",
    "        i += 1\n",
    "\n",
    "        #pygame.init()\n",
    "        #pygame.mixer.init()\n",
    "        #pygame.mixer.music.load(\"data.mp3\")\n",
    "\n",
    "        #try:\n",
    "            #pygame.mixer.music.play()\n",
    "\n",
    "            #while pygame.mixer.music.get_busy():\n",
    "                #pygame.time.Clock().tick(10)\n",
    "\n",
    "        #except Exception as e:\n",
    "            #print(e)\n",
    "        #finally:\n",
    "            #pygame.mixer.music.stop()\n",
    "            #pygame.mixer.quit()\n",
    "            \n",
    "            \n",
    "    return True"
   ]
  },
  {
   "cell_type": "code",
   "execution_count": 192,
   "id": "289dce28",
   "metadata": {
    "scrolled": true
   },
   "outputs": [
    {
     "name": "stdout",
     "output_type": "stream",
     "text": [
      "3\n",
      "0\n",
      "\n",
      "1\n",
      "\n",
      "2\n",
      "Welcome to Figures in History! The channel where we delve into the lives of remarkable individuals who shaped the world we live in today. From visionaries and leaders to artists and innovators, we bring you ten key facts about some of the most influential figures from throughout history. Prepare to embark on a captivating journey through time, as we uncover the intriguing stories behind these remarkable people. In each episode, we'll unveil fascinating details, shedding light on their accomplishments, struggles, and the lasting impact they've had on our world.\n"
     ]
    },
    {
     "data": {
      "text/plain": [
       "True"
      ]
     },
     "execution_count": 192,
     "metadata": {},
     "output_type": "execute_result"
    }
   ],
   "source": [
    "\n",
    "my_text = docx2txt.process(\"./Set Scripts/Intro.docx\")\n",
    "speak(my_text)\n"
   ]
  },
  {
   "cell_type": "code",
   "execution_count": 193,
   "id": "d378c710",
   "metadata": {
    "scrolled": false
   },
   "outputs": [
    {
     "name": "stdout",
     "output_type": "stream",
     "text": [
      "7\n",
      "0\n",
      "\n",
      "1\n",
      "\n",
      "2\n",
      "Nelson Mandela, born on July 18, 1918, in Mvezo, South Africa, is widely regarded as one of the most influential and revered leaders in the fight against apartheid and the champion of equality and human rights. Mandela was an anti-apartheid revolutionary, politician, and philanthropist who served as the President of South Africa from 1994 to 1999. He was the country's first black head of state, breaking the barriers of racial inequality. Mandela spent 27 years in prison, from 1962 to 1990, for his activism against apartheid. Despite his unjust imprisonment,\n",
      "3\n",
      "he remained steadfast in his pursuit of justice, becoming a symbol of resistance and resilience. Mandela played a pivotal role in negotiating the end of apartheid and fostering a peaceful transition to democracy in South Africa. He led the African National Congress (ANC) in negotiations with the apartheid government, eventually leading to free and fair elections in 1994. Mandela's commitment to reconciliation and forgiveness was demonstrated through the establishment of the Truth and Reconciliation Commission (TRC) in South Africa. The TRC aimed to address past human rights abuses and promote\n",
      "4\n",
      "healing and unity in the nation. Mandela was awarded the Nobel Peace Prize in 1993 for his extraordinary efforts in dismantling apartheid and promoting racial harmony. His tireless advocacy for peace and justice earned him global recognition and admiration. Mandela's leadership and vision were instrumental in shaping a new South Africa that embraced inclusivity and equality. He championed the principles of nonviolence, democracy, and respect for human rights, establishing a foundation for a more just society. Mandela was known for his unwavering belief in education as a tool for empowerment\n",
      "5\n",
      "and societal progress. He emphasized the importance of education in breaking the cycle of poverty and inequality, and he dedicated significant resources to promote education initiatives. Mandela's legacy extended beyond South Africa. He was a prominent international figure, using his influence to advocate for global peace, the eradication of poverty, and the fight against HIV/AIDS. Mandela's passing on December 5, 2013, marked a profound loss for the world, but his impact and teachings continue to inspire generations. His life serves as a powerful reminder of the transformative power of forgiveness,\n",
      "6\n",
      "perseverance, and the unwavering pursuit of justice and equality.\n"
     ]
    },
    {
     "data": {
      "text/plain": [
       "True"
      ]
     },
     "execution_count": 193,
     "metadata": {},
     "output_type": "execute_result"
    }
   ],
   "source": [
    "my_text2 = docx2txt.process(\"./Scripts/Nelson Mandela.docx\")\n",
    "speak(my_text2)"
   ]
  },
  {
   "cell_type": "code",
   "execution_count": 194,
   "id": "c8be5926",
   "metadata": {
    "scrolled": true
   },
   "outputs": [
    {
     "name": "stdout",
     "output_type": "stream",
     "text": [
      "7\n",
      "0\n",
      "\n",
      "1\n",
      "\n",
      "2\n",
      "Albert Einstein was born on March 14, 1879, in Ulm, Germany. He was the son of Hermann Einstein, a salesman, and Pauline Koch, a housewife. He had one sister, Maja. Einstein's parents were secular Jews, but Einstein was not a religious person himself. Einstein was a bright child, but he had difficulty in school. He was expelled from school at the age of 15 for being a disruptive student. He later said that he was \"not a good student because I did not learn the same way as other children.\"\n",
      "3\n",
      "Einstein failed his first college entrance exam, but was later admitted to the Swiss Federal Polytechnic School in Zurich. He was accepted on the condition that he first finish his formal schooling. He graduated in 1900 with a degree in physics. Einstein developed the special theory of relativity in 1905, when he was just 26 years old. This theory revolutionized our understanding of space and time. It showed that mass and energy are equivalent, and that the speed of light is the ultimate speed limit in the universe. Einstein developed\n",
      "4\n",
      "the general theory of relativity in 1915. This theory is even more complex than the special theory, and it explains gravity as a curvature of spacetime. It has been used to make accurate predictions about the behaviour of black holes and other astronomical phenomena. Einstein won the Nobel Prize in Physics in 1921 for his work on the photoelectric effect. This effect shows that light can behave as both a wave and a particle. It was a major breakthrough in our understanding of light and matter. Einstein was a pacifist\n",
      "5\n",
      "and spoke out against war and nuclear weapons. He was a lifelong advocate for social justice and civil rights. He was also a very private person and didn't like to give interviews. Einstein was a talented violinist and loved to play classical music. He also enjoyed sailing, hiking, and playing the piano. He was a member of the Swiss-German Club of Scientists and Artists, and he often played chamber music with his fellow members. Einstein's brain was preserved after his death and is still being studied by scientists today. They\n",
      "6\n",
      "hope to learn more about how his brain worked and how he was able to make such brilliant scientific discoveries. They have found that his brain had some unusual features, such as a larger-than-average parietal lobe, which is associated with spatial reasoning. Einstein was a very creative thinker and came up with many of his ideas while daydreaming. He would often sit in his office and stare out the window, thinking about the universe. He said that he \"got my best ideas while daydreaming.\"\n"
     ]
    },
    {
     "data": {
      "text/plain": [
       "True"
      ]
     },
     "execution_count": 194,
     "metadata": {},
     "output_type": "execute_result"
    }
   ],
   "source": [
    "my_text3 = docx2txt.process(\"./Scripts/Albert Einstein (NS).docx\")\n",
    "speak(my_text3)"
   ]
  },
  {
   "cell_type": "code",
   "execution_count": 43,
   "id": "be5aebdb",
   "metadata": {},
   "outputs": [],
   "source": []
  },
  {
   "cell_type": "code",
   "execution_count": 20,
   "id": "deb07cc7",
   "metadata": {},
   "outputs": [
    {
     "data": {
      "text/plain": [
       "str"
      ]
     },
     "execution_count": 20,
     "metadata": {},
     "output_type": "execute_result"
    }
   ],
   "source": [
    "type(str(my_text2))"
   ]
  }
 ],
 "metadata": {
  "kernelspec": {
   "display_name": "Python 3 (ipykernel)",
   "language": "python",
   "name": "python3"
  },
  "language_info": {
   "codemirror_mode": {
    "name": "ipython",
    "version": 3
   },
   "file_extension": ".py",
   "mimetype": "text/x-python",
   "name": "python",
   "nbconvert_exporter": "python",
   "pygments_lexer": "ipython3",
   "version": "3.8.16"
  }
 },
 "nbformat": 4,
 "nbformat_minor": 5
}
