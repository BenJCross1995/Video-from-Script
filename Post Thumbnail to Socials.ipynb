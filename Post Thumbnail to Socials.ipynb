{
 "cells": [
  {
   "cell_type": "markdown",
   "id": "c68323d2",
   "metadata": {},
   "source": [
    "# Post to Instagram"
   ]
  },
  {
   "cell_type": "code",
   "execution_count": null,
   "id": "acf6f8d4",
   "metadata": {},
   "outputs": [],
   "source": [
    "# pip install instabot\n",
    "from instabot import Bot\n",
    " \n",
    " \n",
    "bot = Bot()\n",
    " \n",
    "bot.login(username = \"user_name\",\n",
    "          password = \"user_password\")\n",
    " \n",
    "# Recommended to put the photo\n",
    "# you want to upload in the same\n",
    "# directory where this Python code\n",
    "# is located else you will have\n",
    "# to provide full path for the photo\n",
    "bot.upload_photo(\"Technical-Scripter-2019.jpg\",\n",
    "                 caption =\"Technical Scripter Event 2019\")"
   ]
  },
  {
   "cell_type": "markdown",
   "id": "1e674e4b",
   "metadata": {},
   "source": [
    "# Post to Twitter"
   ]
  },
  {
   "cell_type": "code",
   "execution_count": null,
   "id": "efde4320",
   "metadata": {},
   "outputs": [],
   "source": [
    "# pip install tweepy\n",
    "import tweepy\n",
    " \n",
    "def main():\n",
    "    twitter_auth_keys = {\n",
    "        \"consumer_key\"        : \"REPLACE_THIS_WITH_YOUR_CONSUMER_KEY\",\n",
    "        \"consumer_secret\"     : \"REPLACE_THIS_WITH_YOUR_CONSUMER_SECRET\",\n",
    "        \"access_token\"        : \"REPLACE_THIS_WITH_YOUR_ACCESS_TOKEN\",\n",
    "        \"access_token_secret\" : \"REPLACE_THIS_WITH_YOUR_ACCESS_TOKEN_SECRET\"\n",
    "    }\n",
    " \n",
    "    auth = tweepy.OAuthHandler(\n",
    "            twitter_auth_keys['consumer_key'],\n",
    "            twitter_auth_keys['consumer_secret']\n",
    "            )\n",
    "    auth.set_access_token(\n",
    "            twitter_auth_keys['access_token'],\n",
    "            twitter_auth_keys['access_token_secret']\n",
    "            )\n",
    "    api = tweepy.API(auth)\n",
    " \n",
    "    # Upload image\n",
    "    media = api.media_upload(\"william_gibson.jpg\")\n",
    " \n",
    "    # Post tweet with image\n",
    "    tweet = \"Great scifi author or greatest scifi author? #williamgibson\"\n",
    "    post_result = api.update_status(status=tweet, media_ids=[media.media_id])\n",
    " \n",
    "if __name__ == \"__main__\":\n",
    "    main()"
   ]
  },
  {
   "cell_type": "markdown",
   "id": "55ea79d7",
   "metadata": {},
   "source": [
    "# Post to Threads"
   ]
  },
  {
   "cell_type": "code",
   "execution_count": null,
   "id": "a893cbbc",
   "metadata": {},
   "outputs": [],
   "source": [
    "# pip install threads-api\n",
    "from threads_api.src.threads_api import ThreadsAPI\n",
    "import asyncio\n",
    "import os\n",
    "from dotenv import load_dotenv\n",
    "\n",
    "load_dotenv()\n",
    "\n",
    "async def post():\n",
    "    api = ThreadsAPI()\n",
    "    await api.login(os.environ.get('INSTAGRAM_USERNAME'), os.environ.get('INSTAGRAM_PASSWORD'), cached_token_path=\".token\")\n",
    "    result = await api.post(caption=\"Posting this from the Danie1/threads-api!\", image_path=\".github/logo.jpg\")\n",
    "\n",
    "\n",
    "    if result:\n",
    "        print(\"Post has been successfully posted\")\n",
    "    else:\n",
    "        print(\"Unable to post.\")\n",
    "\n",
    "async def main():\n",
    "    await post()\n",
    "\n",
    "# Create an event loop and run the main function\n",
    "loop = asyncio.get_event_loop()\n",
    "loop.run_until_complete(main())"
   ]
  },
  {
   "cell_type": "markdown",
   "id": "ed5e9850",
   "metadata": {},
   "source": [
    "# Choose Random Thumbnail"
   ]
  },
  {
   "cell_type": "code",
   "execution_count": 32,
   "id": "a9c4e4d6",
   "metadata": {},
   "outputs": [],
   "source": [
    "import os\n",
    "import random\n",
    "import pandas as pd "
   ]
  },
  {
   "cell_type": "code",
   "execution_count": 57,
   "id": "ff2e90e3",
   "metadata": {},
   "outputs": [],
   "source": [
    "thumbnail_loc = \"./Thumbnails/\"\n",
    "thumbnails = os.listdir(thumbnail_loc)\n",
    "thumbnail_choice = random.sample(thumbnails, 1)[0]\n",
    "\n",
    "historical_figure = thumbnail_choice.rsplit('-', 1)[0]\n",
    "\n",
    "historical_figures_list = pd.read_excel(r'Historical Figures List.xlsx')\n",
    "video_url = historical_figures_list[(historical_figures_list.Name == historical_figure)]\n",
    "video_url = video_url.iloc[0]['Youtube_URL']"
   ]
  },
  {
   "cell_type": "code",
   "execution_count": null,
   "id": "ba4a8fa3",
   "metadata": {},
   "outputs": [],
   "source": []
  }
 ],
 "metadata": {
  "kernelspec": {
   "display_name": "Python 3 (ipykernel)",
   "language": "python",
   "name": "python3"
  },
  "language_info": {
   "codemirror_mode": {
    "name": "ipython",
    "version": 3
   },
   "file_extension": ".py",
   "mimetype": "text/x-python",
   "name": "python",
   "nbconvert_exporter": "python",
   "pygments_lexer": "ipython3",
   "version": "3.10.9"
  }
 },
 "nbformat": 4,
 "nbformat_minor": 5
}
