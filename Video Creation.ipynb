{
 "cells": [
  {
   "cell_type": "code",
   "execution_count": null,
   "id": "3ef0358d",
   "metadata": {},
   "outputs": [],
   "source": [
    "#import pyttsx3\n",
    "#engine = pyttsx3.init()\n",
    "#engine.say(\"I will speak this text\")\n",
    "#engine.runAndWait()"
   ]
  },
  {
   "cell_type": "code",
   "execution_count": 18,
   "id": "34ad34c3",
   "metadata": {},
   "outputs": [],
   "source": [
    "import gtts # Speech to text\n",
    "from playsound import playsound\n",
    "import docx2txt # Import word files"
   ]
  },
  {
   "cell_type": "code",
   "execution_count": 19,
   "id": "3c44ea66",
   "metadata": {},
   "outputs": [
    {
     "name": "stdout",
     "output_type": "stream",
     "text": [
      "Welcome back to our aviation series! In today's episode, we're exploring the remarkable life of Amelia Earhart, a pioneering aviator and symbol of female empowerment. Let's take a deep dive into her extraordinary journey and ten fascinating facts about her.\n",
      "\n",
      "\n",
      "\n",
      "Fact number one: Amelia Earhart was born on July 24, 1897, in Atchison, Kansas. She developed a fascination with aviation at an early age and would go on to break numerous records as a pilot.\n",
      "\n",
      "\n",
      "\n",
      "Fact number two: Amelia Earhart became the first woman to fly solo across the Atlantic Ocean. In 1932, she completed the journey, proving that women were just as capable as men in the field of aviation.\n",
      "\n",
      "\n",
      "\n",
      "Fact number three: Earhart's achievements extended beyond her solo flight. She set many other records, including being the first person to fly solo from Hawaii to the U.S. mainland and the first person to fly solo across the Pacific Ocean.\n",
      "\n",
      "\n",
      "\n",
      "Fact number four: Amelia Earhart was not only a skilled pilot but also an advocate for gender equality. She believed that women should have equal opportunities in aviation and actively promoted their involvement in the field.\n",
      "\n",
      "\n",
      "\n",
      "Fact number five: Earhart co-founded the Ninety-Nines, an organization for female pilots. The group aimed to provide support, mentorship, and opportunities for women in aviation, further breaking down barriers in the industry.\n",
      "\n",
      "\n",
      "\n",
      "Fact number six: Amelia Earhart's disappearance remains one of the greatest mysteries in aviation history. In 1937, during an attempt to circumnavigate the globe, her plane vanished somewhere over the Pacific Ocean, and the search for her and her aircraft continues to this day.\n",
      "\n",
      "\n",
      "\n",
      "Fact number seven: Earhart's legacy extends beyond her flying career. Her courage, determination, and unwavering spirit have inspired generations of women and serve as a reminder to pursue their dreams fearlessly.\n",
      "\n",
      "\n",
      "\n",
      "Fact number eight: Earhart was an accomplished author, writing books about her experiences in aviation and her views on gender equality. Her writing provided a window into her adventurous life and inspired others to explore the world of flight.\n",
      "\n",
      "\n",
      "\n",
      "Fact number nine: Amelia Earhart's impact on aviation and women's rights continues to be celebrated. There are museums, monuments, and even an annual Amelia Earhart Day dedicated to honouring her contributions and inspiring future aviators.\n",
      "\n",
      "\n",
      "\n",
      "Fact number ten: Amelia Earhart's spirit of adventure and determination lives on. Her legacy serves as a reminder that with courage and perseverance, we can overcome any challenge and reach for the skies.\n",
      "\n",
      "\n",
      "\n",
      "That wraps up our exploration of the remarkable life of Amelia Earhart. From her ground-breaking achievements in aviation to her advocacy for gender equality, Earhart's story is one of breaking barriers and pushing boundaries. Join us next time as we uncover more captivating stories from the world of aviation. Don't forget to like, subscribe, and hit that notification bell to stay updated!\n"
     ]
    }
   ],
   "source": [
    "my_text = docx2txt.process(\"/Users/user/Documents/Historical Figures Youtube Idea/Scripts/Amelia Earhart.docx\")\n",
    "print(my_text)"
   ]
  },
  {
   "cell_type": "code",
   "execution_count": 77,
   "id": "ff159e36",
   "metadata": {},
   "outputs": [],
   "source": [
    "# make request to google to get synthesis\n",
    "tts = gtts.gTTS(my_text, tld= \"co.uk\")\n",
    "# save the audio file\n",
    "tts.save(\"hello.mp3\")"
   ]
  },
  {
   "cell_type": "code",
   "execution_count": 78,
   "id": "12a9842f",
   "metadata": {},
   "outputs": [],
   "source": [
    "# play the audio file\n",
    "# playsound(\"hello.mp3\")"
   ]
  },
  {
   "cell_type": "code",
   "execution_count": 79,
   "id": "3032d2e0",
   "metadata": {},
   "outputs": [],
   "source": [
    "from moviepy.editor import *"
   ]
  },
  {
   "cell_type": "code",
   "execution_count": 80,
   "id": "d49ccf35",
   "metadata": {},
   "outputs": [],
   "source": [
    "audio_clip = AudioFileClip(\"hello.mp3\")"
   ]
  },
  {
   "cell_type": "code",
   "execution_count": 81,
   "id": "70d8ed43",
   "metadata": {},
   "outputs": [],
   "source": [
    "audio_duration = audio_clip.duration"
   ]
  },
  {
   "cell_type": "code",
   "execution_count": 82,
   "id": "709fc6ac",
   "metadata": {},
   "outputs": [],
   "source": [
    "images_loc = \"/Users/user/Documents/Historical Figures Youtube Idea/Images/\"\n",
    "\n",
    "import os\n",
    "\n",
    "number_of_images = len(os.listdir(images_loc))\n",
    "\n",
    "image_duration = audio_duration / number_of_images"
   ]
  },
  {
   "cell_type": "code",
   "execution_count": 83,
   "id": "c41f2e1c",
   "metadata": {},
   "outputs": [
    {
     "data": {
      "text/plain": [
       "23.551"
      ]
     },
     "execution_count": 83,
     "metadata": {},
     "output_type": "execute_result"
    }
   ],
   "source": [
    "image_duration"
   ]
  },
  {
   "cell_type": "code",
   "execution_count": 88,
   "id": "ee41fa33",
   "metadata": {
    "scrolled": true
   },
   "outputs": [
    {
     "name": "stderr",
     "output_type": "stream",
     "text": [
      "                                                                                \n",
      "\n",
      "\n",
      "\u001b[A\u001b[A\u001b[A                                                                       \n",
      "chunk:   0%|                    | 1/5193 [10:05<873:16:05, 605.50s/it, now=None]\n",
      "\n",
      "\n",
      "chunk:   0%|                    | 1/5193 [10:28<906:19:12, 628.42s/it, now=None]\u001b[A\u001b[A\u001b[A\n",
      "                                                                                \u001b[A\n",
      "\n",
      "\n",
      "\u001b[A\u001b[A\u001b[A                                                                       \n",
      "chunk:   0%|                    | 1/5193 [10:05<873:17:10, 605.51s/it, now=None]\n",
      "\n",
      "\n",
      "chunk:   0%|                    | 1/5193 [10:28<906:20:17, 628.43s/it, now=None]\u001b[A\u001b[A\u001b[A\n",
      "chunk:   0%|                    | 1/5193 [08:49<763:32:27, 529.42s/it, now=None]\u001b[A"
     ]
    },
    {
     "name": "stdout",
     "output_type": "stream",
     "text": [
      "Moviepy - Building video test.mp4.\n",
      "Moviepy - Writing video test.mp4\n",
      "\n"
     ]
    },
    {
     "name": "stderr",
     "output_type": "stream",
     "text": [
      "\n",
      "\n",
      "t:   0%|                                     | 0/5653 [00:00<?, ?it/s, now=None]\u001b[A\u001b[A\n",
      "\n",
      "t:   3%|▋                        | 166/5653 [00:00<00:03, 1649.61it/s, now=None]\u001b[A\u001b[A\n",
      "\n",
      "t:   7%|█▊                       | 397/5653 [00:00<00:02, 2034.84it/s, now=None]\u001b[A\u001b[A\n",
      "\n",
      "t:  11%|██▊                      | 635/5653 [00:00<00:02, 2190.73it/s, now=None]\u001b[A\u001b[A\n",
      "\n",
      "t:  16%|███▉                     | 882/5653 [00:00<00:02, 2299.71it/s, now=None]\u001b[A\u001b[A\n",
      "\n",
      "t:  20%|████▋                   | 1113/5653 [00:00<00:01, 2293.03it/s, now=None]\u001b[A\u001b[A\n",
      "\n",
      "t:  24%|█████▊                  | 1377/5653 [00:00<00:01, 2407.77it/s, now=None]\u001b[A\u001b[A\n",
      "\n",
      "t:  29%|██████▉                 | 1647/5653 [00:00<00:01, 2499.67it/s, now=None]\u001b[A\u001b[A\n",
      "\n",
      "t:  34%|████████                | 1899/5653 [00:00<00:01, 2504.50it/s, now=None]\u001b[A\u001b[A\n",
      "\n",
      "t:  38%|█████████▏              | 2150/5653 [00:00<00:01, 2421.69it/s, now=None]\u001b[A\u001b[A\n",
      "\n",
      "t:  42%|██████████▏             | 2393/5653 [00:01<00:01, 2416.77it/s, now=None]\u001b[A\u001b[A\n",
      "\n",
      "t:  47%|███████████▏            | 2643/5653 [00:01<00:01, 2441.60it/s, now=None]\u001b[A\u001b[A\n",
      "\n",
      "t:  51%|████████████▎           | 2888/5653 [00:01<00:01, 2436.77it/s, now=None]\u001b[A\u001b[A\n",
      "\n",
      "t:  56%|█████████████▎          | 3145/5653 [00:01<00:01, 2475.26it/s, now=None]\u001b[A\u001b[A\n",
      "\n",
      "t:  60%|██████████████▍         | 3400/5653 [00:01<00:00, 2495.87it/s, now=None]\u001b[A\u001b[A\n",
      "\n",
      "t:  65%|███████████████▌        | 3651/5653 [00:01<00:00, 2499.54it/s, now=None]\u001b[A\u001b[A\n",
      "\n",
      "t:  69%|████████████████▌       | 3902/5653 [00:01<00:00, 2501.83it/s, now=None]\u001b[A\u001b[A\n",
      "\n",
      "t:  73%|█████████████████▋      | 4153/5653 [00:01<00:00, 2491.95it/s, now=None]\u001b[A\u001b[A\n",
      "\n",
      "t:  78%|██████████████████▋     | 4405/5653 [00:01<00:00, 2497.69it/s, now=None]\u001b[A\u001b[A\n",
      "\n",
      "t:  82%|███████████████████▊    | 4655/5653 [00:01<00:00, 2474.36it/s, now=None]\u001b[A\u001b[A\n",
      "\n",
      "t:  87%|████████████████████▊   | 4903/5653 [00:02<00:00, 2452.57it/s, now=None]\u001b[A\u001b[A\n",
      "\n",
      "t:  91%|█████████████████████▊  | 5149/5653 [00:02<00:00, 2419.95it/s, now=None]\u001b[A\u001b[A\n",
      "\n",
      "t:  95%|██████████████████████▉ | 5396/5653 [00:02<00:00, 2432.23it/s, now=None]\u001b[A\u001b[A\n",
      "\n",
      "t: 100%|███████████████████████▉| 5644/5653 [00:02<00:00, 2445.35it/s, now=None]\u001b[A\u001b[A\n",
      "\n",
      "                                                                                \u001b[A\u001b[A\n",
      "\n",
      "\n",
      "\u001b[A\u001b[A\u001b[A                                                                       \n",
      "chunk:   0%|                    | 1/5193 [10:07<876:44:37, 607.91s/it, now=None]\n",
      "\n",
      "\n",
      "chunk:   0%|                    | 1/5193 [10:30<909:47:40, 630.83s/it, now=None]\u001b[A\u001b[A\u001b[A\n",
      "                                                                                \u001b[A\n",
      "\n",
      "\n",
      "\u001b[A\u001b[A\u001b[A                                                                       \n",
      "chunk:   0%|                    | 1/5193 [10:07<876:44:57, 607.92s/it, now=None]\n",
      "\n",
      "\n",
      "chunk:   0%|                    | 1/5193 [10:30<909:48:00, 630.83s/it, now=None]\u001b[A\u001b[A\u001b[A\n",
      "chunk:   0%|                    | 1/5193 [08:51<767:00:05, 531.82s/it, now=None]\u001b[A"
     ]
    },
    {
     "name": "stdout",
     "output_type": "stream",
     "text": [
      "Moviepy - Done !\n",
      "Moviepy - video ready test.mp4\n"
     ]
    }
   ],
   "source": [
    "from moviepy.editor import *\n",
    "\n",
    "img_names = os.listdir(images_loc)\n",
    "\n",
    "img = list(images_loc + img for img in img_names)\n",
    "\n",
    "clips = [ImageClip(m).set_duration(image_duration)\n",
    "      for m in img]\n",
    "\n",
    "concat_clip = concatenate_videoclips(clips, method=\"compose\")\n",
    "concat_clip.write_videofile(\"test.mp4\", fps=24)"
   ]
  },
  {
   "cell_type": "code",
   "execution_count": 89,
   "id": "e11aee17",
   "metadata": {
    "scrolled": true
   },
   "outputs": [
    {
     "name": "stderr",
     "output_type": "stream",
     "text": [
      "                                                                                \n",
      "\n",
      "\n",
      "\u001b[A\u001b[A\u001b[A                                                                       \n",
      "chunk:   0%|                    | 1/5193 [10:08<876:52:36, 608.00s/it, now=None]\n",
      "\n",
      "\n",
      "chunk:   0%|                    | 1/5193 [10:30<909:55:39, 630.92s/it, now=None]\u001b[A\u001b[A\u001b[A\n",
      "                                                                                \u001b[A\n",
      "\n",
      "\n",
      "\u001b[A\u001b[A\u001b[A                                                                       \n",
      "chunk:   0%|                    | 1/5193 [10:08<876:52:57, 608.01s/it, now=None]\n",
      "\n",
      "\n",
      "chunk:   0%|                    | 1/5193 [10:30<909:56:00, 630.92s/it, now=None]\u001b[A\u001b[A\u001b[A\n",
      "chunk:   0%|                    | 1/5193 [08:51<767:08:04, 531.91s/it, now=None]\u001b[A"
     ]
    },
    {
     "name": "stdout",
     "output_type": "stream",
     "text": [
      "Moviepy - Building video video_1.mp4.\n",
      "Moviepy - Writing video video_1.mp4\n",
      "\n"
     ]
    },
    {
     "name": "stderr",
     "output_type": "stream",
     "text": [
      "\n",
      "\n",
      "t:   0%|                                     | 0/5653 [00:00<?, ?it/s, now=None]\u001b[A\u001b[A\n",
      "\n",
      "t:   4%|▉                        | 209/5653 [00:00<00:02, 2082.36it/s, now=None]\u001b[A\u001b[A\n",
      "\n",
      "t:   9%|██▏                      | 493/5653 [00:00<00:02, 2526.79it/s, now=None]\u001b[A\u001b[A\n",
      "\n",
      "t:  14%|███▍                     | 772/5653 [00:00<00:01, 2642.19it/s, now=None]\u001b[A\u001b[A\n",
      "\n",
      "t:  18%|████▍                   | 1037/5653 [00:00<00:01, 2619.63it/s, now=None]\u001b[A\u001b[A\n",
      "\n",
      "t:  23%|█████▌                  | 1322/5653 [00:00<00:01, 2699.88it/s, now=None]\u001b[A\u001b[A\n",
      "\n",
      "t:  29%|██████▉                 | 1647/5653 [00:00<00:01, 2884.34it/s, now=None]\u001b[A\u001b[A\n",
      "\n",
      "t:  35%|████████▎               | 1956/5653 [00:00<00:01, 2951.08it/s, now=None]\u001b[A\u001b[A\n",
      "\n",
      "t:  40%|█████████▌              | 2262/5653 [00:00<00:01, 2984.16it/s, now=None]\u001b[A\u001b[A\n",
      "\n",
      "t:  45%|██████████▉             | 2564/5653 [00:00<00:01, 2969.59it/s, now=None]\u001b[A\u001b[A\n",
      "\n",
      "t:  51%|████████████▏           | 2862/5653 [00:01<00:00, 2953.77it/s, now=None]\u001b[A\u001b[A\n",
      "\n",
      "t:  56%|█████████████▍          | 3169/5653 [00:01<00:00, 2987.74it/s, now=None]\u001b[A\u001b[A\n",
      "\n",
      "t:  61%|██████████████▋         | 3469/5653 [00:01<00:00, 2989.93it/s, now=None]\u001b[A\u001b[A\n",
      "\n",
      "t:  67%|████████████████        | 3775/5653 [00:01<00:00, 3010.96it/s, now=None]\u001b[A\u001b[A\n",
      "\n",
      "t:  72%|█████████████████▎      | 4077/5653 [00:01<00:00, 2676.65it/s, now=None]\u001b[A\u001b[A\n",
      "\n",
      "t:  77%|██████████████████▍     | 4352/5653 [00:01<00:00, 2683.19it/s, now=None]\u001b[A\u001b[A\n",
      "\n",
      "t:  82%|███████████████████▋    | 4626/5653 [00:01<00:00, 2698.23it/s, now=None]\u001b[A\u001b[A\n",
      "\n",
      "t:  87%|████████████████████▉   | 4943/5653 [00:01<00:00, 2832.43it/s, now=None]\u001b[A\u001b[A\n",
      "\n",
      "t:  93%|██████████████████████▎ | 5241/5653 [00:01<00:00, 2872.75it/s, now=None]\u001b[A\u001b[A\n",
      "\n",
      "t:  98%|███████████████████████▌| 5540/5653 [00:01<00:00, 2905.70it/s, now=None]\u001b[A\u001b[A\n",
      "\n",
      "                                                                                \u001b[A\u001b[A\n",
      "\n",
      "\n",
      "\u001b[A\u001b[A\u001b[A                                                                       \n",
      "chunk:   0%|                    | 1/5193 [10:10<879:49:50, 610.05s/it, now=None]\n",
      "\n",
      "\n",
      "chunk:   0%|                    | 1/5193 [10:32<912:52:52, 632.97s/it, now=None]\u001b[A\u001b[A\u001b[A\n",
      "                                                                                \u001b[A\n",
      "\n",
      "\n",
      "\u001b[A\u001b[A\u001b[A                                                                       \n",
      "chunk:   0%|                    | 1/5193 [10:10<879:50:07, 610.06s/it, now=None]\n",
      "\n",
      "\n",
      "chunk:   0%|                    | 1/5193 [10:32<912:53:09, 632.97s/it, now=None]\u001b[A\u001b[A\u001b[A\n",
      "chunk:   0%|                    | 1/5193 [08:53<770:05:14, 533.96s/it, now=None]\u001b[A"
     ]
    },
    {
     "name": "stdout",
     "output_type": "stream",
     "text": [
      "Moviepy - Done !\n",
      "Moviepy - video ready video_1.mp4\n"
     ]
    }
   ],
   "source": [
    "video_clip = VideoFileClip(\"test.mp4\")\n",
    "video_clip.set_audio = audio_clip\n",
    "video_clip.write_videofile(\"video_1.mp4\")"
   ]
  },
  {
   "cell_type": "code",
   "execution_count": 90,
   "id": "513ea48e",
   "metadata": {},
   "outputs": [
    {
     "name": "stderr",
     "output_type": "stream",
     "text": [
      "                                                                                \n",
      "\n",
      "\n",
      "\u001b[A\u001b[A\u001b[A                                                                       \n",
      "chunk:   0%|                    | 1/5193 [10:30<908:50:19, 630.17s/it, now=None]\n",
      "\n",
      "\n",
      "chunk:   0%|                    | 1/5193 [10:53<941:54:09, 653.09s/it, now=None]\u001b[A\u001b[A\u001b[A\n",
      "                                                                                \u001b[A\n",
      "\n",
      "\n",
      "\u001b[A\u001b[A\u001b[A                                                                       \n",
      "chunk:   0%|                    | 1/5193 [10:30<908:51:59, 630.18s/it, now=None]\n",
      "\n",
      "\n",
      "chunk:   0%|                    | 1/5193 [10:53<941:55:02, 653.10s/it, now=None]\u001b[A\u001b[A\u001b[A\n",
      "chunk:   0%|                    | 1/5193 [09:14<799:07:14, 554.09s/it, now=None]\u001b[A"
     ]
    },
    {
     "name": "stdout",
     "output_type": "stream",
     "text": [
      "Moviepy - Building video test1.mp4.\n",
      "Moviepy - Writing video test1.mp4\n",
      "\n"
     ]
    },
    {
     "name": "stderr",
     "output_type": "stream",
     "text": [
      "\n",
      "\n",
      "t:   0%|                                     | 0/5653 [00:00<?, ?it/s, now=None]\u001b[A\u001b[A\n",
      "\n",
      "t:   2%|▍                          | 93/5653 [00:00<00:06, 925.27it/s, now=None]\u001b[A\u001b[A\n",
      "\n",
      "t:   6%|█▍                       | 314/5653 [00:00<00:03, 1677.79it/s, now=None]\u001b[A\u001b[A\n",
      "\n",
      "t:  11%|██▋                      | 598/5653 [00:00<00:02, 2204.73it/s, now=None]\u001b[A\u001b[A\n",
      "\n",
      "t:  15%|███▊                     | 869/5653 [00:00<00:01, 2393.51it/s, now=None]\u001b[A\u001b[A\n",
      "\n",
      "t:  20%|████▊                   | 1143/5653 [00:00<00:01, 2514.79it/s, now=None]\u001b[A\u001b[A\n",
      "\n",
      "t:  25%|██████                  | 1432/5653 [00:00<00:01, 2641.59it/s, now=None]\u001b[A\u001b[A\n",
      "\n",
      "t:  30%|███████▏                | 1701/5653 [00:00<00:01, 2656.92it/s, now=None]\u001b[A\u001b[A\n",
      "\n",
      "t:  35%|████████▍               | 1999/5653 [00:00<00:01, 2738.84it/s, now=None]\u001b[A\u001b[A\n",
      "\n",
      "t:  41%|█████████▊              | 2306/5653 [00:00<00:01, 2841.43it/s, now=None]\u001b[A\u001b[A\n",
      "\n",
      "t:  46%|███████████             | 2591/5653 [00:01<00:01, 2732.15it/s, now=None]\u001b[A\u001b[A\n",
      "\n",
      "t:  51%|████████████▏           | 2880/5653 [00:01<00:01, 2759.67it/s, now=None]\u001b[A\u001b[A\n",
      "\n",
      "t:  56%|█████████████▌          | 3187/5653 [00:01<00:00, 2849.03it/s, now=None]\u001b[A\u001b[A\n",
      "\n",
      "t:  62%|██████████████▊         | 3481/5653 [00:01<00:00, 2875.73it/s, now=None]\u001b[A\u001b[A\n",
      "\n",
      "t:  67%|████████████████        | 3781/5653 [00:01<00:00, 2910.95it/s, now=None]\u001b[A\u001b[A\n",
      "\n",
      "t:  72%|█████████████████▎      | 4073/5653 [00:01<00:00, 2903.64it/s, now=None]\u001b[A\u001b[A\n",
      "\n",
      "t:  77%|██████████████████▌     | 4364/5653 [00:01<00:00, 2821.26it/s, now=None]\u001b[A\u001b[A\n",
      "\n",
      "t:  82%|███████████████████▋    | 4647/5653 [00:01<00:00, 2792.90it/s, now=None]\u001b[A\u001b[A\n",
      "\n",
      "t:  88%|█████████████████████   | 4949/5653 [00:01<00:00, 2857.57it/s, now=None]\u001b[A\u001b[A\n",
      "\n",
      "t:  93%|██████████████████████▏ | 5236/5653 [00:01<00:00, 2853.10it/s, now=None]\u001b[A\u001b[A\n",
      "\n",
      "t:  98%|███████████████████████▍| 5522/5653 [00:02<00:00, 2841.07it/s, now=None]\u001b[A\u001b[A\n",
      "\n",
      "                                                                                \u001b[A\u001b[A\n",
      "\n",
      "\n",
      "\u001b[A\u001b[A\u001b[A                                                                       \n",
      "chunk:   0%|                    | 1/5193 [10:32<911:57:00, 632.32s/it, now=None]\n",
      "\n",
      "\n",
      "chunk:   0%|                    | 1/5193 [10:55<945:00:03, 655.24s/it, now=None]\u001b[A\u001b[A\u001b[A\n",
      "                                                                                \u001b[A\n",
      "\n",
      "\n",
      "\u001b[A\u001b[A\u001b[A                                                                       \n",
      "chunk:   0%|                    | 1/5193 [10:32<911:57:20, 632.33s/it, now=None]\n",
      "\n",
      "\n",
      "chunk:   0%|                    | 1/5193 [10:55<945:00:23, 655.24s/it, now=None]\u001b[A\u001b[A\u001b[A\n",
      "chunk:   0%|                    | 1/5193 [09:16<802:12:28, 556.23s/it, now=None]\u001b[A"
     ]
    },
    {
     "name": "stdout",
     "output_type": "stream",
     "text": [
      "Moviepy - Done !\n",
      "Moviepy - video ready test1.mp4\n"
     ]
    }
   ],
   "source": [
    "video_clip.write_videofile(\"test1.mp4\", \n",
    "                     codec='libx264', \n",
    "                     audio_codec='aac', \n",
    "                     temp_audiofile= \"temp.m4a\", \n",
    "                     remove_temp=True\n",
    "                     )"
   ]
  },
  {
   "cell_type": "code",
   "execution_count": null,
   "id": "38be5287",
   "metadata": {},
   "outputs": [],
   "source": [
    "video_clip."
   ]
  },
  {
   "cell_type": "code",
   "execution_count": null,
   "id": "ad789199",
   "metadata": {},
   "outputs": [],
   "source": []
  }
 ],
 "metadata": {
  "kernelspec": {
   "display_name": "Python 3 (ipykernel)",
   "language": "python",
   "name": "python3"
  },
  "language_info": {
   "codemirror_mode": {
    "name": "ipython",
    "version": 3
   },
   "file_extension": ".py",
   "mimetype": "text/x-python",
   "name": "python",
   "nbconvert_exporter": "python",
   "pygments_lexer": "ipython3",
   "version": "3.10.9"
  }
 },
 "nbformat": 4,
 "nbformat_minor": 5
}
