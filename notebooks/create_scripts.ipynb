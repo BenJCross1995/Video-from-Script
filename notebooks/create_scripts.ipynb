{
 "cells": [
  {
   "cell_type": "markdown",
   "id": "65d39316",
   "metadata": {},
   "source": [
    "# Create Scripts from Wikipedia Articles"
   ]
  },
  {
   "cell_type": "markdown",
   "id": "0acd02b7",
   "metadata": {},
   "source": [
    "The code below creates the scripts for the YouTube videos using the articles posted on the figures from Wikipedia.\n",
    "\n",
    "TO DO\n",
    "\n",
    "    * Add the date an article was generated. If it passes a certain threshold and a video is yet to be posted then we should really pull the data again or add a feature to check when the site was last updated and compare against that."
   ]
  },
  {
   "cell_type": "markdown",
   "id": "c93c662c",
   "metadata": {},
   "source": [
    "## Import Libraries"
   ]
  },
  {
   "cell_type": "code",
   "execution_count": 1,
   "id": "316ee2fd",
   "metadata": {},
   "outputs": [],
   "source": [
    "import docx2txt\n",
    "import json\n",
    "import openpyxl\n",
    "import os\n",
    "import re\n",
    "import wikipedia\n",
    "\n",
    "import pandas as pd\n",
    "\n",
    "from docx import Document\n",
    "from langchain_core.output_parsers import StrOutputParser\n",
    "from langchain_core.prompts import ChatPromptTemplate\n",
    "from langchain_openai import ChatOpenAI"
   ]
  },
  {
   "cell_type": "markdown",
   "id": "2e6abbbb",
   "metadata": {},
   "source": [
    "## Set OpenAI Key\n",
    "\n",
    "Set the OpenAI key from the credentials file"
   ]
  },
  {
   "cell_type": "code",
   "execution_count": 2,
   "id": "afb0fc7b",
   "metadata": {},
   "outputs": [],
   "source": [
    "os.environ[\"OPENAI_API_KEY\"] = json.load(open(\"../Credentials.json\"))['OPENAI_API_KEY']"
   ]
  },
  {
   "cell_type": "markdown",
   "id": "9f9f840d",
   "metadata": {},
   "source": [
    "## Read the Background Documents"
   ]
  },
  {
   "cell_type": "code",
   "execution_count": 3,
   "id": "4a9090ca",
   "metadata": {},
   "outputs": [],
   "source": [
    "script_loc = \"../Scripts/\"\n",
    "\n",
    "set_scripts_loc = \"../Set Scripts/\"\n",
    "intro = docx2txt.process(set_scripts_loc + 'Intro.docx')\n",
    "outro = docx2txt.process(set_scripts_loc + 'Outro.docx')\n",
    "\n",
    "historical_figures_list = pd.read_excel(r'../Historical Figures List.xlsx')"
   ]
  },
  {
   "cell_type": "markdown",
   "id": "2892c7b2",
   "metadata": {},
   "source": [
    "## Functions to get Context from Wikipedia"
   ]
  },
  {
   "cell_type": "code",
   "execution_count": 4,
   "id": "2c967740",
   "metadata": {},
   "outputs": [],
   "source": [
    "def parse_wikipedia_url(identifier):\n",
    "    # Parse a wikipedia url to get the title\n",
    "    match = re.search(r'/([^/]+)$', identifier)\n",
    "    return match.group(1)\n",
    "\n",
    "def get_context(identifier):\n",
    "    # Get the title from the wiki URL\n",
    "    page_title = parse_wikipedia_url(identifier)\n",
    "    \n",
    "    # Get the page data and return the body text as context\n",
    "    page = wikipedia.page(title=page_title,\n",
    "                         auto_suggest=False,\n",
    "                          redirect=True)\n",
    "    context = page.content\n",
    "    \n",
    "    return context"
   ]
  },
  {
   "cell_type": "markdown",
   "id": "3637363a",
   "metadata": {},
   "source": [
    "## Create Chain"
   ]
  },
  {
   "cell_type": "code",
   "execution_count": 5,
   "id": "f6c80e63",
   "metadata": {},
   "outputs": [],
   "source": [
    "llm_model = \"gpt-4-1106-preview\"\n",
    "\n",
    "model = ChatOpenAI(model=llm_model, temperature=0.1)\n",
    "\n",
    "prompt_template = \"\"\"\n",
    "    Please provide me with 10 very long and interesting facts about {figure} using only the context given below. \n",
    "    I have a youtube channel based on influential figures so this information must be accurate as my channel depends on it. \n",
    "    Please make each fact approximately 300 tokens long.\n",
    "    ----------\n",
    "    Context: ```{context}```\n",
    "    ----------\n",
    "\"\"\"\n",
    "\n",
    "prompt = ChatPromptTemplate.from_template(prompt_template)\n",
    "\n",
    "output_parser = StrOutputParser()\n",
    "\n",
    "chain = prompt | model | output_parser"
   ]
  },
  {
   "cell_type": "code",
   "execution_count": 6,
   "id": "19fc36e3",
   "metadata": {},
   "outputs": [],
   "source": [
    "# Here we want to capture any figures who need audio. We can create this in one loop.\n",
    "need_script = historical_figures_list[(historical_figures_list.Script_Created == \"No\")]"
   ]
  },
  {
   "cell_type": "code",
   "execution_count": 7,
   "id": "c56fdb07",
   "metadata": {
    "scrolled": true
   },
   "outputs": [
    {
     "data": {
      "text/html": [
       "<div>\n",
       "<style scoped>\n",
       "    .dataframe tbody tr th:only-of-type {\n",
       "        vertical-align: middle;\n",
       "    }\n",
       "\n",
       "    .dataframe tbody tr th {\n",
       "        vertical-align: top;\n",
       "    }\n",
       "\n",
       "    .dataframe thead th {\n",
       "        text-align: right;\n",
       "    }\n",
       "</style>\n",
       "<table border=\"1\" class=\"dataframe\">\n",
       "  <thead>\n",
       "    <tr style=\"text-align: right;\">\n",
       "      <th></th>\n",
       "      <th>Figure_ID</th>\n",
       "      <th>Name</th>\n",
       "      <th>Description</th>\n",
       "      <th>Script_Created</th>\n",
       "      <th>AI_Voice_Generated</th>\n",
       "      <th>Images_Obtained</th>\n",
       "      <th>Youtube_Video_Created</th>\n",
       "      <th>Youtube_Video_Posted</th>\n",
       "      <th>Youtube_URL</th>\n",
       "      <th>Word_Count</th>\n",
       "      <th>Model_Used</th>\n",
       "      <th>Wikipedia</th>\n",
       "    </tr>\n",
       "  </thead>\n",
       "  <tbody>\n",
       "    <tr>\n",
       "      <th>233</th>\n",
       "      <td>234</td>\n",
       "      <td>Bobby Fischer</td>\n",
       "      <td>American chess player</td>\n",
       "      <td>No</td>\n",
       "      <td>No</td>\n",
       "      <td>No</td>\n",
       "      <td>No</td>\n",
       "      <td>No</td>\n",
       "      <td>NaN</td>\n",
       "      <td>NaN</td>\n",
       "      <td>NaN</td>\n",
       "      <td>https://en.wikipedia.org/wiki/Bobby_Fischer</td>\n",
       "    </tr>\n",
       "    <tr>\n",
       "      <th>234</th>\n",
       "      <td>235</td>\n",
       "      <td>Garry Kasparov</td>\n",
       "      <td>Chess player</td>\n",
       "      <td>No</td>\n",
       "      <td>No</td>\n",
       "      <td>No</td>\n",
       "      <td>No</td>\n",
       "      <td>No</td>\n",
       "      <td>NaN</td>\n",
       "      <td>NaN</td>\n",
       "      <td>NaN</td>\n",
       "      <td>https://en.wikipedia.org/wiki/Garry_Kasparov</td>\n",
       "    </tr>\n",
       "  </tbody>\n",
       "</table>\n",
       "</div>"
      ],
      "text/plain": [
       "     Figure_ID            Name            Description Script_Created  \\\n",
       "233        234   Bobby Fischer  American chess player             No   \n",
       "234        235  Garry Kasparov           Chess player             No   \n",
       "\n",
       "    AI_Voice_Generated Images_Obtained Youtube_Video_Created  \\\n",
       "233                 No              No                    No   \n",
       "234                 No              No                    No   \n",
       "\n",
       "    Youtube_Video_Posted Youtube_URL  Word_Count Model_Used  \\\n",
       "233                   No         NaN         NaN        NaN   \n",
       "234                   No         NaN         NaN        NaN   \n",
       "\n",
       "                                        Wikipedia  \n",
       "233   https://en.wikipedia.org/wiki/Bobby_Fischer  \n",
       "234  https://en.wikipedia.org/wiki/Garry_Kasparov  "
      ]
     },
     "execution_count": 7,
     "metadata": {},
     "output_type": "execute_result"
    }
   ],
   "source": [
    "need_script"
   ]
  },
  {
   "cell_type": "code",
   "execution_count": 8,
   "id": "c5a89403",
   "metadata": {},
   "outputs": [
    {
     "name": "stdout",
     "output_type": "stream",
     "text": [
      "Bobby Fischer: 814 Words\n",
      "Garry Kasparov: 842 Words\n",
      "Complete, my guy!\n"
     ]
    }
   ],
   "source": [
    "# We only do this if audio is needed\n",
    "if need_script.shape[0] > 0:\n",
    "    \n",
    "    # Get the figures we need scripts for\n",
    "    figure_scripts = list(need_script.iloc[:,1].values)\n",
    "    \n",
    "    for figure in figure_scripts:\n",
    "\n",
    "        # Get the context from Wikipedia and run the chain\n",
    "        wiki_url = historical_figures_list.loc[(historical_figures_list.Name == figure),'Wikipedia'].values[0]\n",
    "        context = get_context(wiki_url)\n",
    "        \n",
    "        script = chain.invoke({\"figure\": figure, \"context\": context})\n",
    "\n",
    "        # Count the number of words in the paragraph\n",
    "        word_count = len(script.split())\n",
    "\n",
    "        # Print the figure's name and the word count\n",
    "        print(f\"{figure}: {word_count} Words\")\n",
    "        \n",
    "        # Create a new Document and add the created script then save as figure name\n",
    "        doc = Document()\n",
    "        doc.add_paragraph(script)\n",
    "        save_loc = script_loc + figure + \".docx\"\n",
    "        doc.save(save_loc)\n",
    "        \n",
    "        # Convert the No to Yes in needs audio column\n",
    "        historical_figures_list.iloc[(historical_figures_list.Name == figure),3] = \"Yes\"\n",
    "        historical_figures_list.iloc[(historical_figures_list.Name == figure),9] = word_count\n",
    "        historical_figures_list.iloc[(historical_figures_list.Name == figure),10] = llm_model\n",
    "        \n",
    "        # Once all done stop the engine and then overwrite the Excel file\n",
    "        historical_figures_list.to_excel(r'../Historical Figures List.xlsx', index=False)\n",
    "    \n",
    "    print(\"Complete, my guy!\")"
   ]
  },
  {
   "cell_type": "code",
   "execution_count": null,
   "id": "1f0d0bb9",
   "metadata": {},
   "outputs": [],
   "source": []
  }
 ],
 "metadata": {
  "kernelspec": {
   "display_name": "Python 3 (ipykernel)",
   "language": "python",
   "name": "python3"
  },
  "language_info": {
   "codemirror_mode": {
    "name": "ipython",
    "version": 3
   },
   "file_extension": ".py",
   "mimetype": "text/x-python",
   "name": "python",
   "nbconvert_exporter": "python",
   "pygments_lexer": "ipython3",
   "version": "3.10.9"
  }
 },
 "nbformat": 4,
 "nbformat_minor": 5
}
