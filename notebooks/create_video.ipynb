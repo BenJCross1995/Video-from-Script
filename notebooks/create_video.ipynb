{
 "cells": [
  {
   "cell_type": "code",
   "execution_count": 13,
   "id": "b8ba05b6-d0dd-4fe6-8cd6-819a26c0755a",
   "metadata": {},
   "outputs": [],
   "source": [
    "import os\n",
    "\n",
    "import pandas as pd"
   ]
  },
  {
   "cell_type": "code",
   "execution_count": 14,
   "id": "cb992dcd-39c3-458b-a872-bff331108661",
   "metadata": {},
   "outputs": [],
   "source": [
    "os.environ[\"IMAGEIO_FFMPEG_EXE\"] = \"/Users/user/Documents/GitHub/Video-from-Script/ffmpeg\"\n",
    "from moviepy.editor import *"
   ]
  },
  {
   "cell_type": "code",
   "execution_count": 24,
   "id": "4cdea5fa-578e-4209-bb0d-d3db2159ac29",
   "metadata": {},
   "outputs": [],
   "source": [
    "def need_video(df_loc):\n",
    "\n",
    "    df = pd.read_excel(df_loc)\n",
    "    \n",
    "    need_video = df[(df.Script_Created == \"Yes\") &\n",
    "                    (df.AI_Voice_Generated == \"Yes\") &\n",
    "                    (df.Images_Obtained == \"Yes\") &\n",
    "                    (df.Youtube_Video_Created == \"No\")]\n",
    "\n",
    "    return need_video"
   ]
  },
  {
   "cell_type": "code",
   "execution_count": 25,
   "id": "b4b813cb-dc9a-49e1-bc8b-8f7a8747a32d",
   "metadata": {},
   "outputs": [],
   "source": [
    "def create_video(figure, audio_loc, image_loc, video_loc, df_loc, yt_short=False):\n",
    "    \n",
    "    # Get the locations\n",
    "    audio_location = audio_loc + figure + '.mp3'\n",
    "    image_location = image_loc + figure + '/'\n",
    "    video_location = video_loc + figure + '.mp4'\n",
    "        \n",
    "    # Add audio clip and get the duration\n",
    "    audio_clip = AudioFileClip(audio_location)\n",
    "    audio_duration = audio_clip.duration\n",
    "        \n",
    "    # Get the time each image will show for, remove thumbnail options\n",
    "    possible_images = os.listdir(image_location)\n",
    "    possible_images = [image for image in possible_images if \"thumbnail\" not in image]\n",
    "    possible_images = [ i for i in possible_images if i != '.DS_Store']\n",
    "        \n",
    "    number_of_images = len(possible_images)\n",
    "    image_duration = audio_duration / number_of_images\n",
    "\n",
    "    # Here we create the frames for each image and their duration\n",
    "    img_names = possible_images\n",
    "    img = list(image_location + img for img in img_names)\n",
    "\n",
    "    clips = [ImageClip(m).set_duration(image_duration) for m in img]\n",
    "\n",
    "    # Combine the images together into a single clip\n",
    "    concat_clip = concatenate_videoclips(clips, method = \"compose\")\n",
    "\n",
    "    # add the audio\n",
    "    concat_clip.audio = audio_clip\n",
    "\n",
    "    # Write the video with audio included\n",
    "    concat_clip.write_videofile(video_location, fps = 24)\n",
    "\n",
    "    # Add Yes to the video created column\n",
    "    df = pd.read_excel(df_loc)\n",
    "    df.loc[(df.Name == figure), \"Youtube_Video_Created\"] = \"Yes\"\n",
    "    df.to_excel(df_loc, index=False)"
   ]
  }
 ],
 "metadata": {
  "kernelspec": {
   "display_name": "“YouTube_Environment”",
   "language": "python",
   "name": "youtube_env"
  },
  "language_info": {
   "codemirror_mode": {
    "name": "ipython",
    "version": 3
   },
   "file_extension": ".py",
   "mimetype": "text/x-python",
   "name": "python",
   "nbconvert_exporter": "python",
   "pygments_lexer": "ipython3",
   "version": "3.11.7"
  }
 },
 "nbformat": 4,
 "nbformat_minor": 5
}
