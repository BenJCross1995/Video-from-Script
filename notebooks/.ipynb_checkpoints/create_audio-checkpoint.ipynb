{
 "cells": [
  {
   "cell_type": "markdown",
   "id": "f33e2f47-519a-48a0-9f7a-ec57cf687baf",
   "metadata": {},
   "source": [
    "# Create Audio Files for YouTube Videos"
   ]
  },
  {
   "cell_type": "code",
   "execution_count": 4,
   "id": "5ed33e8f-c9f7-4c13-a206-82de2d4e96f2",
   "metadata": {},
   "outputs": [],
   "source": [
    "import docx2txt\n",
    "import os\n",
    "import random\n",
    "\n",
    "import pandas as pd\n",
    "\n",
    "from edge_tts import VoicesManager"
   ]
  },
  {
   "cell_type": "code",
   "execution_count": 5,
   "id": "e756c065-b885-4ba7-a22f-630dd69840b5",
   "metadata": {},
   "outputs": [],
   "source": [
    "def need_audio(df_loc):\n",
    "    \"\"\"Return a df for any figures for which we need to create an audio file\"\"\"\n",
    "    \n",
    "    df = pd.read_excel(df_loc)\n",
    "\n",
    "    need_audio = df[(df.Script_Created == \"Yes\") &\n",
    "                    (df.AI_Voice_Generated == \"No\")]\n",
    "    \n",
    "    return need_audio"
   ]
  },
  {
   "cell_type": "code",
   "execution_count": 6,
   "id": "d5476391-ccf8-4e19-9318-a0bce3a810d3",
   "metadata": {},
   "outputs": [],
   "source": [
    "def text_to_speech(text_loc, voice, figure, intro, outro, save_loc, speed=\"+0%\",):\n",
    "\n",
    "    # Get the script\n",
    "    data = docx2txt.process(text_loc)\n",
    "    # Remove any of the elements below\n",
    "    data = data.replace('\\r', ' ').replace('\\n\\n', ' ').replace('\\n', ' ')\n",
    "    # Get the intro and outro\n",
    "    intro = docx2txt.process(intro)\n",
    "    \n",
    "    intro = intro.replace(\"[Historical Figure]\", figure)\n",
    "\n",
    "    if outro:\n",
    "        outro = docx2txt.process(outro)\n",
    "        # Combine the three\n",
    "        data = intro + \"  \" + data + \"  \" + outro\n",
    "    else:\n",
    "        data = intro + \"  \" + data\n",
    "    \n",
    "    # Replace any quotation marks\n",
    "    data = data.replace('\"', \"'\")\n",
    "    \n",
    "    # Complete the command with speed adjustment\n",
    "    command1 = f'edge-tts --voice \"{voice}\" --text \"{data}\" --rate=\"{speed}\" --write-media \"{save_loc}\"'\n",
    "    os.system(command1)"
   ]
  },
  {
   "cell_type": "code",
   "execution_count": 9,
   "id": "07ace578-7c4f-449a-b51e-8642a65d0eec",
   "metadata": {},
   "outputs": [],
   "source": [
    "async def create_audio(figure, script_loc, audio_loc, df_loc, intro, outro, speed=\"+0%\"):\n",
    "\n",
    "    # Randomly choose an English US voice\n",
    "    voices = await VoicesManager.create()\n",
    "    # Get the list of english US voices\n",
    "    voice = voices.find(Language=\"en\", Locale=\"en-US\")\n",
    "    # Filter out annoying voice\n",
    "    voice = list(filter(lambda v: v['ShortName'] != 'en-US-AnaNeural', voice))\n",
    "        \n",
    "    # Choose random voice out of those remaining\n",
    "    voice_chosen = random.choice(voice)[\"ShortName\"]\n",
    "        \n",
    "    # Location of the scripts\n",
    "    text_loc = script_loc + figure + \".docx\"\n",
    "        \n",
    "    # Location to save the audio\n",
    "    save_loc = audio_loc + figure + \".mp3\"\n",
    "        \n",
    "    # Run the generate_audio function\n",
    "    text_to_speech(text_loc, voice_chosen, figure, intro, outro, audio_loc, speed)\n",
    "\n",
    "    df = pd.read_excel(df_loc)\n",
    "    \n",
    "    # Convert the No to Yes in needs audio column\n",
    "    df.loc[(df.Name == figure), \"AI_Voice_Generated\"] = \"Yes\"\n",
    "    \n",
    "    # Once all done stop the engine and then overwrite the Excel file\n",
    "    df.to_excel(df_loc, index=False)"
   ]
  }
 ],
 "metadata": {
  "kernelspec": {
   "display_name": "“YouTube_Environment”",
   "language": "python",
   "name": "youtube_env"
  },
  "language_info": {
   "codemirror_mode": {
    "name": "ipython",
    "version": 3
   },
   "file_extension": ".py",
   "mimetype": "text/x-python",
   "name": "python",
   "nbconvert_exporter": "python",
   "pygments_lexer": "ipython3",
   "version": "3.11.7"
  }
 },
 "nbformat": 4,
 "nbformat_minor": 5
}
