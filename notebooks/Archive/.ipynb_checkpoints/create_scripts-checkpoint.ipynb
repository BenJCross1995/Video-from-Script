{
 "cells": [
  {
   "cell_type": "markdown",
   "id": "65d39316",
   "metadata": {},
   "source": [
    "# Create Scripts from Wikipedia Articles"
   ]
  },
  {
   "cell_type": "markdown",
   "id": "0acd02b7",
   "metadata": {},
   "source": [
    "The code below creates the scripts for the YouTube videos using the articles posted on the figures from Wikipedia.\n",
    "\n",
    "TO DO\n",
    "\n",
    "    * Add the date an article was generated. If it passes a certain threshold and a video is yet to be posted then we should really pull the data again or add a feature to check when the site was last updated and compare against that.\n",
    "    * Instead of using OpenAI use llama.cpp and an open sourced model."
   ]
  },
  {
   "cell_type": "markdown",
   "id": "c93c662c",
   "metadata": {},
   "source": [
    "## Import Libraries"
   ]
  },
  {
   "cell_type": "code",
   "execution_count": 42,
   "id": "316ee2fd",
   "metadata": {},
   "outputs": [],
   "source": [
    "import docx2txt\n",
    "import json\n",
    "import openpyxl\n",
    "import os\n",
    "import re\n",
    "import urllib.parse\n",
    "import wikipedia\n",
    "\n",
    "import pandas as pd\n",
    "\n",
    "from docx import Document\n",
    "from langchain_core.output_parsers import StrOutputParser\n",
    "from langchain_core.prompts import ChatPromptTemplate\n",
    "from langchain_openai import ChatOpenAI"
   ]
  },
  {
   "cell_type": "markdown",
   "id": "2e6abbbb",
   "metadata": {},
   "source": [
    "## Set OpenAI Key\n",
    "\n",
    "Set the OpenAI key from the credentials file"
   ]
  },
  {
   "cell_type": "code",
   "execution_count": 43,
   "id": "afb0fc7b",
   "metadata": {},
   "outputs": [],
   "source": [
    "os.environ[\"OPENAI_API_KEY\"] = json.load(open(\"../Credentials.json\"))['OPENAI_API_KEY']"
   ]
  },
  {
   "cell_type": "markdown",
   "id": "9f9f840d",
   "metadata": {},
   "source": [
    "## Read the Background Documents"
   ]
  },
  {
   "cell_type": "code",
   "execution_count": 44,
   "id": "4a9090ca",
   "metadata": {},
   "outputs": [],
   "source": [
    "script_loc = \"/Volumes/BCross/Documents/YouTube/Scripts/\"\n",
    "short_script_loc = \"/Volumes/BCross/Documents/YouTube/Short Scripts/\"\n",
    "\n",
    "set_scripts_loc = \"/Volumes/BCross/Documents/YouTube/Set Scripts/\"\n",
    "intro = docx2txt.process(set_scripts_loc + 'Intro.docx')\n",
    "outro = docx2txt.process(set_scripts_loc + 'Outro.docx')\n",
    "\n",
    "historical_figures_list = pd.read_excel(r'../Historical Figures List.xlsx')\n",
    "short_historical_figures_list = pd.read_excel(r'../Short Historical Figures List.xlsx')"
   ]
  },
  {
   "cell_type": "markdown",
   "id": "2892c7b2",
   "metadata": {},
   "source": [
    "## Functions to get Context from Wikipedia"
   ]
  },
  {
   "cell_type": "code",
   "execution_count": 45,
   "id": "2c967740",
   "metadata": {},
   "outputs": [],
   "source": [
    "def parse_wikipedia_url(identifier):\n",
    "    # Decode the url\n",
    "    decoded_string = urllib.parse.unquote(identifier)\n",
    "    # Parse a wikipedia url to get the title\n",
    "    match = re.search(r'/([^/]+)$', decoded_string)\n",
    "    return match.group(1)\n",
    "\n",
    "def get_context(identifier):\n",
    "    # Get the title from the wiki URL\n",
    "    page_title = parse_wikipedia_url(identifier)\n",
    "    \n",
    "    # Get the page data and return the body text as context\n",
    "    page = wikipedia.page(title=page_title,\n",
    "                         auto_suggest=False,\n",
    "                          redirect=True)\n",
    "    context = page.content\n",
    "    \n",
    "    return context"
   ]
  },
  {
   "cell_type": "markdown",
   "id": "3637363a",
   "metadata": {},
   "source": [
    "## Create Chain"
   ]
  },
  {
   "cell_type": "code",
   "execution_count": 46,
   "id": "f6c80e63",
   "metadata": {},
   "outputs": [],
   "source": [
    "llm_model = \"gpt-4o\"\n",
    "\n",
    "model = ChatOpenAI(model=llm_model, temperature=0.1)\n",
    "\n",
    "prompt_template = \"\"\"\n",
    "    Please provide me with 10 very long and interesting facts about {figure} using only the context given below. \n",
    "    I have a youtube channel based on influential figures so this information must be accurate as my channel depends on it. \n",
    "    Please make each fact approximately 300 tokens long. DO NOT add additional text before the list of facts.\n",
    "    ----------\n",
    "    Context: ```{context}```\n",
    "    ----------\n",
    "\"\"\"\n",
    "\n",
    "prompt = ChatPromptTemplate.from_template(prompt_template)\n",
    "\n",
    "output_parser = StrOutputParser()\n",
    "\n",
    "chain = prompt | model | output_parser"
   ]
  },
  {
   "cell_type": "markdown",
   "id": "aac197f7-79ac-4e33-a351-9b337b151b27",
   "metadata": {},
   "source": [
    "## New Version of Chain with JSON Output\n",
    "\n",
    "Keeping this in however found that it was including 'fact' tags rather than just combining all facts."
   ]
  },
  {
   "cell_type": "code",
   "execution_count": 47,
   "id": "0c4d7e80-0967-4f75-a38d-70b5f7c08aee",
   "metadata": {},
   "outputs": [],
   "source": [
    "llm_model = \"gpt-4o\"\n",
    "\n",
    "model = ChatOpenAI(model=llm_model, temperature=0.1)\n",
    "\n",
    "json_llm = model.bind(response_format={\"type\": \"json_object\"})\n",
    "\n",
    "prompt_template = \"\"\"\n",
    "    Please provide me with 10 very long and interesting facts about {figure} using only the context given below. \n",
    "    I have a youtube channel based on influential figures so this information must be accurate as my channel depends on it. \n",
    "    Please make each fact approximately 300 tokens long. Return the output as a JSON object with the format with \"script\" as the key and the content as the value.\n",
    "    \n",
    "    ----------\n",
    "    Context: ```{context}```\n",
    "    ----------\n",
    "\"\"\"\n",
    "\n",
    "prompt = ChatPromptTemplate.from_template(prompt_template)\n",
    "\n",
    "output_parser = StrOutputParser()\n",
    "\n",
    "json_chain = prompt | json_llm"
   ]
  },
  {
   "cell_type": "code",
   "execution_count": 48,
   "id": "19fc36e3",
   "metadata": {},
   "outputs": [
    {
     "data": {
      "text/html": [
       "<div>\n",
       "<style scoped>\n",
       "    .dataframe tbody tr th:only-of-type {\n",
       "        vertical-align: middle;\n",
       "    }\n",
       "\n",
       "    .dataframe tbody tr th {\n",
       "        vertical-align: top;\n",
       "    }\n",
       "\n",
       "    .dataframe thead th {\n",
       "        text-align: right;\n",
       "    }\n",
       "</style>\n",
       "<table border=\"1\" class=\"dataframe\">\n",
       "  <thead>\n",
       "    <tr style=\"text-align: right;\">\n",
       "      <th></th>\n",
       "      <th>Figure_ID</th>\n",
       "      <th>Name</th>\n",
       "      <th>Description</th>\n",
       "      <th>Script_Created</th>\n",
       "      <th>AI_Voice_Generated</th>\n",
       "      <th>Images_Obtained</th>\n",
       "      <th>Youtube_Video_Created</th>\n",
       "      <th>Youtube_Video_Posted</th>\n",
       "      <th>Youtube_URL</th>\n",
       "      <th>Word_Count</th>\n",
       "      <th>Model_Used</th>\n",
       "      <th>Wikipedia</th>\n",
       "    </tr>\n",
       "  </thead>\n",
       "  <tbody>\n",
       "  </tbody>\n",
       "</table>\n",
       "</div>"
      ],
      "text/plain": [
       "Empty DataFrame\n",
       "Columns: [Figure_ID, Name, Description, Script_Created, AI_Voice_Generated, Images_Obtained, Youtube_Video_Created, Youtube_Video_Posted, Youtube_URL, Word_Count, Model_Used, Wikipedia]\n",
       "Index: []"
      ]
     },
     "execution_count": 48,
     "metadata": {},
     "output_type": "execute_result"
    }
   ],
   "source": [
    "# Here we want to capture any figures who need audio. We can create this in one loop.\n",
    "need_script = historical_figures_list[(historical_figures_list.Script_Created == \"No\")]\n",
    "need_script"
   ]
  },
  {
   "cell_type": "code",
   "execution_count": 49,
   "id": "c5a89403",
   "metadata": {},
   "outputs": [],
   "source": [
    "# We only do this if audio is needed\n",
    "if need_script.shape[0] > 0:\n",
    "    \n",
    "    # Get the figures we need scripts for\n",
    "    figure_scripts = list(need_script.iloc[:,1].values)\n",
    "    \n",
    "    for figure in figure_scripts:\n",
    "\n",
    "        # Get the context from Wikipedia and run the chain\n",
    "        wiki_url = historical_figures_list.loc[(historical_figures_list.Name == figure),'Wikipedia'].values[0]\n",
    "        print(wiki_url)\n",
    "        context = get_context(wiki_url)\n",
    "        \n",
    "        script = chain.invoke({\"figure\": figure, \"context\": context})\n",
    "\n",
    "        # Count the number of words in the paragraph\n",
    "        word_count = len(script.split())\n",
    "\n",
    "        # Print the figure's name and the word count\n",
    "        print(f\"{figure}: {word_count} Words\")\n",
    "        \n",
    "        # Create a new Document and add the created script then save as figure name\n",
    "        doc = Document()\n",
    "        doc.add_paragraph(script)\n",
    "        save_loc = script_loc + figure + \".docx\"\n",
    "        doc.save(save_loc)\n",
    "        \n",
    "        # Convert the No to Yes in needs audio column\n",
    "        historical_figures_list.loc[(historical_figures_list.Name == figure), \"Script_Created\"] = \"Yes\"\n",
    "        historical_figures_list.loc[(historical_figures_list.Name == figure), \"Word_Count\"] = word_count\n",
    "        historical_figures_list.loc[(historical_figures_list.Name == figure), \"Model_Used\"] = llm_model\n",
    "        \n",
    "        # Once all done stop the engine and then overwrite the Excel file\n",
    "        historical_figures_list.to_excel(r'../Historical Figures List.xlsx', index=False)\n",
    "    \n",
    "    print(\"Complete, my guy!\")"
   ]
  },
  {
   "cell_type": "markdown",
   "id": "db1a9973-f598-4dfd-8bd2-fc6243a8701d",
   "metadata": {},
   "source": [
    "# YouTube Shorts\n",
    "\n",
    "The code below creates scripts for any YouTube shorts we have on backlog."
   ]
  },
  {
   "cell_type": "markdown",
   "id": "329ab715-d983-4dfa-b6dd-f0f6af80fc04",
   "metadata": {},
   "source": [
    "## Create YouTube Short Chain"
   ]
  },
  {
   "cell_type": "code",
   "execution_count": 50,
   "id": "c1ed48f6-e210-48c4-9b74-5db81667dfca",
   "metadata": {},
   "outputs": [],
   "source": [
    "short_llm_model = \"gpt-4o\"\n",
    "\n",
    "short_model = ChatOpenAI(model=short_llm_model, temperature=0.1)\n",
    "\n",
    "short_prompt_template = \"\"\"\n",
    "    Please provide me with 10 short but interesting facts about {figure} using only the context given below. \n",
    "    I have a youtube channel based on influential figures so this information must be accurate as my channel depends on it. \n",
    "    DO NOT add additional text before the list of facts.\n",
    "    ----------\n",
    "    Context: ```{context}```\n",
    "    ----------\n",
    "\"\"\"\n",
    "\n",
    "short_prompt = ChatPromptTemplate.from_template(short_prompt_template)\n",
    "\n",
    "short_chain = short_prompt | short_model | output_parser"
   ]
  },
  {
   "cell_type": "markdown",
   "id": "a6630f86-74ed-4be3-ba7c-d4c28029adf6",
   "metadata": {},
   "source": [
    "## Create YouTube Short Scrips"
   ]
  },
  {
   "cell_type": "code",
   "execution_count": 51,
   "id": "66948cc0-b6d9-4f6b-85b4-565afcf6904a",
   "metadata": {},
   "outputs": [
    {
     "data": {
      "text/html": [
       "<div>\n",
       "<style scoped>\n",
       "    .dataframe tbody tr th:only-of-type {\n",
       "        vertical-align: middle;\n",
       "    }\n",
       "\n",
       "    .dataframe tbody tr th {\n",
       "        vertical-align: top;\n",
       "    }\n",
       "\n",
       "    .dataframe thead th {\n",
       "        text-align: right;\n",
       "    }\n",
       "</style>\n",
       "<table border=\"1\" class=\"dataframe\">\n",
       "  <thead>\n",
       "    <tr style=\"text-align: right;\">\n",
       "      <th></th>\n",
       "      <th>Figure_ID</th>\n",
       "      <th>Name</th>\n",
       "      <th>Description</th>\n",
       "      <th>Script_Created</th>\n",
       "      <th>AI_Voice_Generated</th>\n",
       "      <th>Images_Obtained</th>\n",
       "      <th>Youtube_Video_Created</th>\n",
       "      <th>Youtube_Video_Posted</th>\n",
       "      <th>Youtube_short_URL</th>\n",
       "      <th>Youtube_URL</th>\n",
       "      <th>Word_Count</th>\n",
       "      <th>Model_Used</th>\n",
       "      <th>Wikipedia</th>\n",
       "    </tr>\n",
       "  </thead>\n",
       "  <tbody>\n",
       "  </tbody>\n",
       "</table>\n",
       "</div>"
      ],
      "text/plain": [
       "Empty DataFrame\n",
       "Columns: [Figure_ID, Name, Description, Script_Created, AI_Voice_Generated, Images_Obtained, Youtube_Video_Created, Youtube_Video_Posted, Youtube_short_URL, Youtube_URL, Word_Count, Model_Used, Wikipedia]\n",
       "Index: []"
      ]
     },
     "execution_count": 51,
     "metadata": {},
     "output_type": "execute_result"
    }
   ],
   "source": [
    "# Here we want to capture any figures who need audio. We can create this in one loop.\n",
    "need_short_script = short_historical_figures_list[(short_historical_figures_list.Script_Created == \"No\")]\n",
    "need_short_script"
   ]
  },
  {
   "cell_type": "code",
   "execution_count": 52,
   "id": "7b0c9212-8993-4656-8de3-6887544d5bf2",
   "metadata": {},
   "outputs": [],
   "source": [
    "# We only do this if audio is needed\n",
    "if need_short_script.shape[0] > 0:\n",
    "    \n",
    "    # Get the figures we need scripts for\n",
    "    figure_scripts = list(need_short_script.iloc[:,1].values)\n",
    "\n",
    "    for figure in figure_scripts:\n",
    "\n",
    "        # Get the context from Wikipedia and run the chain\n",
    "        wiki_url = short_historical_figures_list.loc[(short_historical_figures_list.Name == figure), 'Wikipedia'].values[0]\n",
    "        print(wiki_url)\n",
    "\n",
    "        script = short_chain.invoke({\"figure\": figure, \"context\": context})\n",
    "\n",
    "        # Count the number of words in the paragraph\n",
    "        word_count = len(script.split())\n",
    "\n",
    "        # Print the figure's name and the word count\n",
    "        print(f\"{figure}: {word_count} Words\")\n",
    "        \n",
    "        # Create a new Document and add the created script then save as figure name\n",
    "        doc = Document()\n",
    "        doc.add_paragraph(script)\n",
    "        save_loc = short_script_loc + figure + \".docx\"\n",
    "        doc.save(save_loc)\n",
    "        \n",
    "        # Convert the No to Yes in needs audio column\n",
    "        short_historical_figures_list.loc[(short_historical_figures_list.Name == figure), \"Script_Created\"] = \"Yes\"\n",
    "        short_historical_figures_list.loc[(short_historical_figures_list.Name == figure), \"Word_Count\"] = word_count\n",
    "        short_historical_figures_list.loc[(short_historical_figures_list.Name == figure), \"Model_Used\"] = llm_model\n",
    "        \n",
    "        # Once all done stop the engine and then overwrite the Excel file\n",
    "        short_historical_figures_list.to_excel(r'../Short Historical Figures List.xlsx', index=False)\n",
    "    \n",
    "    print(\"Complete, my guy!\")"
   ]
  }
 ],
 "metadata": {
  "kernelspec": {
   "display_name": "“YouTube_Environment”",
   "language": "python",
   "name": "youtube_env"
  },
  "language_info": {
   "codemirror_mode": {
    "name": "ipython",
    "version": 3
   },
   "file_extension": ".py",
   "mimetype": "text/x-python",
   "name": "python",
   "nbconvert_exporter": "python",
   "pygments_lexer": "ipython3",
   "version": "3.11.7"
  }
 },
 "nbformat": 4,
 "nbformat_minor": 5
}
