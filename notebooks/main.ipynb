{
 "cells": [
  {
   "cell_type": "code",
   "execution_count": 37,
   "id": "2c160aa1-2f43-471e-b367-6760827436e6",
   "metadata": {},
   "outputs": [],
   "source": [
    "import pandas as pd\n",
    "\n",
    "import asyncio"
   ]
  },
  {
   "cell_type": "markdown",
   "id": "c9740df8-4d74-4d8d-a60b-2c314d3cba2c",
   "metadata": {},
   "source": [
    "## Set Locations"
   ]
  },
  {
   "cell_type": "code",
   "execution_count": 59,
   "id": "bab4b3b3-388f-4623-88e3-9e22a3eb9952",
   "metadata": {},
   "outputs": [],
   "source": [
    "base_loc = \"/Volumes/BCross/Documents/YouTube\"\n",
    "\n",
    "# ----SET LOCATIONS---- #\n",
    "intro_loc = f\"{base_loc}/Set Scripts/Intro.docx\"\n",
    "outro_loc = f\"{base_loc}/Set Scripts/Outro.docx\"\n",
    "\n",
    "# ----YouTube Locations---- #\n",
    "script_loc = f\"{base_loc}/Scripts/\"\n",
    "audio_loc = f\"{base_loc}/Audio/\"\n",
    "image_loc = f\"{base_loc}/Images/\"\n",
    "thumbnail_loc = f\"{base_loc}/Thumbnails/\"\n",
    "video_loc = f\"{base_loc}/Videos/\"\n",
    "df_loc = \"../Historical Figures List.xlsx\"\n",
    "\n",
    "# ----YouTube Short Locations---- #\n",
    "short_script_loc = f\"{base_loc}/Short Scripts/\"\n",
    "short_audio_loc = rf\"{base_loc}/Short Audio/\"\n",
    "short_image_loc = f\"{base_loc}/Short Images/\"\n",
    "short_thumbnail_loc = f\"{base_loc}/Short Thumbnails/\"\n",
    "short_video_loc = f\"{base_loc}/Short Videos/\"\n",
    "short_df_loc = \"../Short Historical Figures List.xlsx\""
   ]
  },
  {
   "cell_type": "code",
   "execution_count": 60,
   "id": "235f9c44-d404-4d58-96a2-3de1f0f05953",
   "metadata": {},
   "outputs": [],
   "source": [
    "%run 'create_script.ipynb'"
   ]
  },
  {
   "cell_type": "code",
   "execution_count": 61,
   "id": "88201c9c-b59d-4b8c-9944-b123a87059f3",
   "metadata": {},
   "outputs": [],
   "source": [
    "%run 'create_audio.ipynb'"
   ]
  },
  {
   "cell_type": "code",
   "execution_count": 62,
   "id": "48568966-26ef-46e6-8211-227d2e9c6926",
   "metadata": {},
   "outputs": [],
   "source": [
    "%run 'create_video.ipynb'"
   ]
  },
  {
   "cell_type": "code",
   "execution_count": 63,
   "id": "e904221d-567e-4002-b1a9-9ab263a3cd11",
   "metadata": {},
   "outputs": [
    {
     "data": {
      "text/html": [
       "<div>\n",
       "<style scoped>\n",
       "    .dataframe tbody tr th:only-of-type {\n",
       "        vertical-align: middle;\n",
       "    }\n",
       "\n",
       "    .dataframe tbody tr th {\n",
       "        vertical-align: top;\n",
       "    }\n",
       "\n",
       "    .dataframe thead th {\n",
       "        text-align: right;\n",
       "    }\n",
       "</style>\n",
       "<table border=\"1\" class=\"dataframe\">\n",
       "  <thead>\n",
       "    <tr style=\"text-align: right;\">\n",
       "      <th></th>\n",
       "      <th>Figure_ID</th>\n",
       "      <th>Name</th>\n",
       "      <th>Description</th>\n",
       "      <th>Script_Created</th>\n",
       "      <th>AI_Voice_Generated</th>\n",
       "      <th>Images_Obtained</th>\n",
       "      <th>Youtube_Video_Created</th>\n",
       "      <th>Youtube_Video_Posted</th>\n",
       "      <th>Youtube_URL</th>\n",
       "      <th>Short_Youtube_URL</th>\n",
       "      <th>Word_Count</th>\n",
       "      <th>Model_Used</th>\n",
       "      <th>Wikipedia</th>\n",
       "    </tr>\n",
       "  </thead>\n",
       "  <tbody>\n",
       "  </tbody>\n",
       "</table>\n",
       "</div>"
      ],
      "text/plain": [
       "Empty DataFrame\n",
       "Columns: [Figure_ID, Name, Description, Script_Created, AI_Voice_Generated, Images_Obtained, Youtube_Video_Created, Youtube_Video_Posted, Youtube_URL, Short_Youtube_URL, Word_Count, Model_Used, Wikipedia]\n",
       "Index: []"
      ]
     },
     "execution_count": 63,
     "metadata": {},
     "output_type": "execute_result"
    }
   ],
   "source": [
    "need_audio(short_df_loc)"
   ]
  },
  {
   "cell_type": "markdown",
   "id": "55c764de-d387-493c-b15d-ef4e0ef6bda5",
   "metadata": {},
   "source": [
    "## Create Script"
   ]
  },
  {
   "cell_type": "code",
   "execution_count": 64,
   "id": "961fbdb6-ecd2-4389-9427-348e6db2d7c5",
   "metadata": {},
   "outputs": [],
   "source": [
    "# ----CREATE SCRIPT REGULAR YT---- #\n",
    "# create_script(figure, script_loc, df_loc)\n",
    "\n",
    "# ----CREATE SCRIPT YT SHORT---- #\n",
    "# create_script(\"Marie Antoinette\", short_script_loc, short_df_loc, prompt=yt_short_prompt)"
   ]
  },
  {
   "cell_type": "markdown",
   "id": "d3173731-70f0-46dc-9005-dbd412b18d89",
   "metadata": {},
   "source": [
    "## Create Audio"
   ]
  },
  {
   "cell_type": "code",
   "execution_count": 65,
   "id": "721f87a8-6dbc-45f0-a369-9a9575f03ea4",
   "metadata": {},
   "outputs": [
    {
     "name": "stderr",
     "output_type": "stream",
     "text": [
      "Traceback (most recent call last):\n",
      "  File \"/Users/user/Documents/GitHub/Video-from-Script/youtube_env/bin/edge-tts\", line 8, in <module>\n",
      "    sys.exit(main())\n",
      "             ^^^^^^\n",
      "  File \"/Users/user/Documents/GitHub/Video-from-Script/youtube_env/lib/python3.11/site-packages/edge_tts/util.py\", line 136, in main\n",
      "    asyncio.run(amain())\n",
      "  File \"/opt/homebrew/Cellar/python@3.11/3.11.7_1/Frameworks/Python.framework/Versions/3.11/lib/python3.11/asyncio/runners.py\", line 190, in run\n",
      "    return runner.run(main)\n",
      "           ^^^^^^^^^^^^^^^^\n",
      "  File \"/opt/homebrew/Cellar/python@3.11/3.11.7_1/Frameworks/Python.framework/Versions/3.11/lib/python3.11/asyncio/runners.py\", line 118, in run\n",
      "    return self._loop.run_until_complete(task)\n",
      "           ^^^^^^^^^^^^^^^^^^^^^^^^^^^^^^^^^^^\n",
      "  File \"/opt/homebrew/Cellar/python@3.11/3.11.7_1/Frameworks/Python.framework/Versions/3.11/lib/python3.11/asyncio/base_events.py\", line 653, in run_until_complete\n",
      "    return future.result()\n",
      "           ^^^^^^^^^^^^^^^\n",
      "  File \"/Users/user/Documents/GitHub/Video-from-Script/youtube_env/lib/python3.11/site-packages/edge_tts/util.py\", line 131, in amain\n",
      "    await _run_tts(args)\n",
      "  File \"/Users/user/Documents/GitHub/Video-from-Script/youtube_env/lib/python3.11/site-packages/edge_tts/util.py\", line 63, in _run_tts\n",
      "    open(args.write_media, \"wb\") if args.write_media else sys.stdout.buffer\n",
      "    ^^^^^^^^^^^^^^^^^^^^^^^^^^^^\n",
      "PermissionError: [Errno 13] Permission denied: '/Volumes/BCross/Documents/YouTube/Short Audio/'\n"
     ]
    }
   ],
   "source": [
    "# Inside another async function\n",
    "async def my_function():\n",
    "    await create_audio(\"Marie Antoinette\", short_script_loc, short_audio_loc, short_df_loc, intro_loc, outro_loc, speed=\"+25%\")\n",
    "\n",
    "# If my_function is the main function\n",
    "await my_function()  # Use 'await' directly in an async function"
   ]
  },
  {
   "cell_type": "code",
   "execution_count": 38,
   "id": "ca218d64-d748-4bf8-8e2d-e8222b70296b",
   "metadata": {},
   "outputs": [
    {
     "ename": "RuntimeError",
     "evalue": "asyncio.run() cannot be called from a running event loop",
     "output_type": "error",
     "traceback": [
      "\u001b[0;31m---------------------------------------------------------------------------\u001b[0m",
      "\u001b[0;31mRuntimeError\u001b[0m                              Traceback (most recent call last)",
      "Cell \u001b[0;32mIn[38], line 5\u001b[0m\n\u001b[1;32m      1\u001b[0m \u001b[38;5;66;03m# ----CREATE AUDIO REGULAR YT---- #\u001b[39;00m\n\u001b[1;32m      2\u001b[0m \u001b[38;5;66;03m# create_audio(figure, script_loc, audio_loc, df_loc, intro_loc, outro_loc, speed=\"+0%\")\u001b[39;00m\n\u001b[1;32m      3\u001b[0m \n\u001b[1;32m      4\u001b[0m \u001b[38;5;66;03m# ----CREATE AUDIO YT SHORT---- #\u001b[39;00m\n\u001b[0;32m----> 5\u001b[0m \u001b[43masyncio\u001b[49m\u001b[38;5;241;43m.\u001b[39;49m\u001b[43mrun\u001b[49m\u001b[43m(\u001b[49m\u001b[43mcreate_audio\u001b[49m\u001b[43m(\u001b[49m\u001b[38;5;124;43m\"\u001b[39;49m\u001b[38;5;124;43mMarie Antoinette\u001b[39;49m\u001b[38;5;124;43m\"\u001b[39;49m\u001b[43m,\u001b[49m\u001b[43m \u001b[49m\u001b[43mshort_script_loc\u001b[49m\u001b[43m,\u001b[49m\u001b[43m \u001b[49m\u001b[43mshort_audio_loc\u001b[49m\u001b[43m,\u001b[49m\u001b[43m \u001b[49m\u001b[43mshort_df_loc\u001b[49m\u001b[43m,\u001b[49m\u001b[43m \u001b[49m\u001b[43mintro_loc\u001b[49m\u001b[43m,\u001b[49m\u001b[43m \u001b[49m\u001b[43moutro_loc\u001b[49m\u001b[43m,\u001b[49m\u001b[43m \u001b[49m\u001b[43mspeed\u001b[49m\u001b[38;5;241;43m=\u001b[39;49m\u001b[38;5;124;43m\"\u001b[39;49m\u001b[38;5;124;43m+25\u001b[39;49m\u001b[38;5;124;43m%\u001b[39;49m\u001b[38;5;124;43m\"\u001b[39;49m\u001b[43m)\u001b[49m\u001b[43m)\u001b[49m\n",
      "File \u001b[0;32m/opt/homebrew/Cellar/python@3.11/3.11.7_1/Frameworks/Python.framework/Versions/3.11/lib/python3.11/asyncio/runners.py:186\u001b[0m, in \u001b[0;36mrun\u001b[0;34m(main, debug)\u001b[0m\n\u001b[1;32m    161\u001b[0m \u001b[38;5;250m\u001b[39m\u001b[38;5;124;03m\"\"\"Execute the coroutine and return the result.\u001b[39;00m\n\u001b[1;32m    162\u001b[0m \n\u001b[1;32m    163\u001b[0m \u001b[38;5;124;03mThis function runs the passed coroutine, taking care of\u001b[39;00m\n\u001b[0;32m   (...)\u001b[0m\n\u001b[1;32m    182\u001b[0m \u001b[38;5;124;03m    asyncio.run(main())\u001b[39;00m\n\u001b[1;32m    183\u001b[0m \u001b[38;5;124;03m\"\"\"\u001b[39;00m\n\u001b[1;32m    184\u001b[0m \u001b[38;5;28;01mif\u001b[39;00m events\u001b[38;5;241m.\u001b[39m_get_running_loop() \u001b[38;5;129;01mis\u001b[39;00m \u001b[38;5;129;01mnot\u001b[39;00m \u001b[38;5;28;01mNone\u001b[39;00m:\n\u001b[1;32m    185\u001b[0m     \u001b[38;5;66;03m# fail fast with short traceback\u001b[39;00m\n\u001b[0;32m--> 186\u001b[0m     \u001b[38;5;28;01mraise\u001b[39;00m \u001b[38;5;167;01mRuntimeError\u001b[39;00m(\n\u001b[1;32m    187\u001b[0m         \u001b[38;5;124m\"\u001b[39m\u001b[38;5;124masyncio.run() cannot be called from a running event loop\u001b[39m\u001b[38;5;124m\"\u001b[39m)\n\u001b[1;32m    189\u001b[0m \u001b[38;5;28;01mwith\u001b[39;00m Runner(debug\u001b[38;5;241m=\u001b[39mdebug) \u001b[38;5;28;01mas\u001b[39;00m runner:\n\u001b[1;32m    190\u001b[0m     \u001b[38;5;28;01mreturn\u001b[39;00m runner\u001b[38;5;241m.\u001b[39mrun(main)\n",
      "\u001b[0;31mRuntimeError\u001b[0m: asyncio.run() cannot be called from a running event loop"
     ]
    }
   ],
   "source": [
    "# ----CREATE AUDIO REGULAR YT---- #\n",
    "# create_audio(figure, script_loc, audio_loc, df_loc, intro_loc, outro_loc, speed=\"+0%\")\n",
    "\n",
    "# ----CREATE AUDIO YT SHORT---- #\n",
    "asyncio.run(create_audio(\"Marie Antoinette\", short_script_loc, short_audio_loc, short_df_loc, intro_loc, outro_loc, speed=\"+25%\"))"
   ]
  },
  {
   "cell_type": "markdown",
   "id": "be0fad21-24b8-40b0-8356-1aabf567d1e4",
   "metadata": {},
   "source": [
    "## YouTube Locations"
   ]
  },
  {
   "cell_type": "code",
   "execution_count": null,
   "id": "51a0834d-fcf3-438b-83f3-a3e26e23212c",
   "metadata": {},
   "outputs": [],
   "source": [
    "base_lo\n",
    "\n",
    "/Volumes/BCross/Documents/YouTube/Audio"
   ]
  },
  {
   "cell_type": "markdown",
   "id": "2339b602-21b8-4a40-ba82-ce4808499a4c",
   "metadata": {},
   "source": [
    "## YouTube Short Location"
   ]
  },
  {
   "cell_type": "code",
   "execution_count": null,
   "id": "9bb797b7-30b7-4874-a0cd-ca4c227a77b2",
   "metadata": {},
   "outputs": [],
   "source": []
  }
 ],
 "metadata": {
  "kernelspec": {
   "display_name": "“YouTube_Environment”",
   "language": "python",
   "name": "youtube_env"
  },
  "language_info": {
   "codemirror_mode": {
    "name": "ipython",
    "version": 3
   },
   "file_extension": ".py",
   "mimetype": "text/x-python",
   "name": "python",
   "nbconvert_exporter": "python",
   "pygments_lexer": "ipython3",
   "version": "3.11.7"
  }
 },
 "nbformat": 4,
 "nbformat_minor": 5
}
