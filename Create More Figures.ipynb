{
 "cells": [
  {
   "cell_type": "code",
   "execution_count": 103,
   "id": "6b7013f6",
   "metadata": {},
   "outputs": [],
   "source": [
    "import pandas as pd"
   ]
  },
  {
   "cell_type": "code",
   "execution_count": 104,
   "id": "77c64d77",
   "metadata": {},
   "outputs": [],
   "source": [
    "historical_figures_list = pd.read_excel(r'Historical Figures List.xlsx')\n",
    "\n",
    "figures = sorted(list(historical_figures_list.iloc[:,1].values))\n",
    "\n",
    "figures_joined = ', '.join(figures)"
   ]
  },
  {
   "cell_type": "code",
   "execution_count": 112,
   "id": "e38a0c0c",
   "metadata": {},
   "outputs": [],
   "source": [
    "import json\n",
    "import openai\n",
    "import os\n",
    "from openai._client import OpenAI\n",
    "\n",
    "# Initialise OpenAI and create the function to get the results \n",
    "os.environ[\"OPENAI_API_KEY\"] = json.load(open(\"Credentials.json\"))['OPENAI_API_KEY']\n",
    "client = OpenAI()\n",
    "    \n",
    "llm_model=\"gpt-3.5-turbo\"\n",
    "\n",
    "def get_completion(prompt, model=llm_model):\n",
    "    messages = [{\"role\": \"user\", \"content\": prompt}]\n",
    "    response = openai.chat.completions.create(\n",
    "        model=model,\n",
    "        messages=messages,\n",
    "        temperature=0.9, \n",
    "    )\n",
    "    return response.choices[0].message.content"
   ]
  },
  {
   "cell_type": "code",
   "execution_count": 113,
   "id": "fae70f2d",
   "metadata": {},
   "outputs": [],
   "source": [
    "prompt = \"\"\"Please generate a list of influential but lesser-known historical figures from various fields such as science, arts, politics, and exploration. These figures should be individuals who are not commonly cited in mainstream historical narratives but have made significant contributions in their respective areas.\n",
    "\n",
    "For each figure, provide a brief description of their contributions and historical significance. The output should be formatted as a JSON array, with each element being an object that contains 'Name' and 'Description' keys. Ensure that the figures are diverse in terms of their time period, geographical origin, and field of influence. Here is the desired format:\n",
    "\n",
    "[\n",
    "    {\"Name\": \"Unique Historical Figure\", \"Description\": \"A brief description of their contributions and significance\"},\n",
    "    ...\n",
    "]\n",
    "\n",
    "I am looking for a minimum of 20 figures. It is crucial that these figures are not well-known names and have not been commonly featured in standard historical accounts or lists.\n",
    "\"\"\""
   ]
  },
  {
   "cell_type": "code",
   "execution_count": 114,
   "id": "996e58bf",
   "metadata": {},
   "outputs": [],
   "source": [
    "new_figures = get_completion(prompt)\n",
    "\n",
    "resp_dict = json.loads(new_figures2)\n",
    "\n",
    "df = pd.DataFrame(resp_dict)"
   ]
  },
  {
   "cell_type": "code",
   "execution_count": 115,
   "id": "4759d060",
   "metadata": {},
   "outputs": [],
   "source": [
    "filtered_df = df[~df['Name'].isin(figures)].copy()\n",
    "\n",
    "# We want to add the figure_id\n",
    "max_figure_id = max(historical_figures_list['Figure_ID'])\n",
    "\n",
    "filtered_df['Figure_ID'] = range(max_figure_id + 1, max_figure_id + 1 + len(filtered_df))\n",
    "filtered_df['Script_Created'] = \"No\"\n",
    "filtered_df['AI_Voice_Generated'] = \"No\"\n",
    "filtered_df['Images_Obtained'] = \"No\"\n",
    "filtered_df['Youtube_Video_Created'] = \"No\"\n",
    "filtered_df['Youtube_Video_Posted'] = \"No\"\n",
    "filtered_df['Youtube_URL'] = None\n",
    "filtered_df['Prompt'] = None\n",
    "\n",
    "column_to_move = 'Figure_ID'\n",
    "new_columns = [column_to_move] + [col for col in filtered_df.columns if col != column_to_move]\n",
    "\n",
    "# Reorder the DataFrame\n",
    "filtered_df = filtered_df[new_columns]"
   ]
  },
  {
   "cell_type": "code",
   "execution_count": 116,
   "id": "9a247fb1",
   "metadata": {},
   "outputs": [
    {
     "data": {
      "text/html": [
       "<div>\n",
       "<style scoped>\n",
       "    .dataframe tbody tr th:only-of-type {\n",
       "        vertical-align: middle;\n",
       "    }\n",
       "\n",
       "    .dataframe tbody tr th {\n",
       "        vertical-align: top;\n",
       "    }\n",
       "\n",
       "    .dataframe thead th {\n",
       "        text-align: right;\n",
       "    }\n",
       "</style>\n",
       "<table border=\"1\" class=\"dataframe\">\n",
       "  <thead>\n",
       "    <tr style=\"text-align: right;\">\n",
       "      <th></th>\n",
       "      <th>Figure_ID</th>\n",
       "      <th>Name</th>\n",
       "      <th>Description</th>\n",
       "      <th>Script_Created</th>\n",
       "      <th>AI_Voice_Generated</th>\n",
       "      <th>Images_Obtained</th>\n",
       "      <th>Youtube_Video_Created</th>\n",
       "      <th>Youtube_Video_Posted</th>\n",
       "      <th>Youtube_URL</th>\n",
       "      <th>Prompt</th>\n",
       "    </tr>\n",
       "  </thead>\n",
       "  <tbody>\n",
       "  </tbody>\n",
       "</table>\n",
       "</div>"
      ],
      "text/plain": [
       "Empty DataFrame\n",
       "Columns: [Figure_ID, Name, Description, Script_Created, AI_Voice_Generated, Images_Obtained, Youtube_Video_Created, Youtube_Video_Posted, Youtube_URL, Prompt]\n",
       "Index: []"
      ]
     },
     "execution_count": 116,
     "metadata": {},
     "output_type": "execute_result"
    }
   ],
   "source": [
    "filtered_df"
   ]
  },
  {
   "cell_type": "code",
   "execution_count": 117,
   "id": "13107153",
   "metadata": {},
   "outputs": [],
   "source": [
    "# Appending filtered_df to historical_figures_list\n",
    "combined_df = pd.concat([historical_figures_list, filtered_df], ignore_index=True)"
   ]
  },
  {
   "cell_type": "code",
   "execution_count": 118,
   "id": "4c7fd184",
   "metadata": {},
   "outputs": [],
   "source": [
    "# Once all done stop the engine and then overwrite the Excel file\n",
    "combined_df.to_excel('Historical Figures List.xlsx', index=False)"
   ]
  },
  {
   "cell_type": "code",
   "execution_count": null,
   "id": "2d5a5bba",
   "metadata": {},
   "outputs": [],
   "source": []
  }
 ],
 "metadata": {
  "kernelspec": {
   "display_name": "Python 3 (ipykernel)",
   "language": "python",
   "name": "python3"
  },
  "language_info": {
   "codemirror_mode": {
    "name": "ipython",
    "version": 3
   },
   "file_extension": ".py",
   "mimetype": "text/x-python",
   "name": "python",
   "nbconvert_exporter": "python",
   "pygments_lexer": "ipython3",
   "version": "3.10.9"
  }
 },
 "nbformat": 4,
 "nbformat_minor": 5
}
