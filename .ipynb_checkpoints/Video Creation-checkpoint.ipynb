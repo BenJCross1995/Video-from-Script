{
 "cells": [
  {
   "cell_type": "markdown",
   "id": "576e4db9",
   "metadata": {},
   "source": [
    "# Create a Video from a Script and Images"
   ]
  },
  {
   "cell_type": "markdown",
   "id": "8967c56b",
   "metadata": {},
   "source": [
    "This notebook pulls data from an Excel file containing a list of influential figures. It is able to convert text into speech and then combine this with images to produce a video ready for YouTube. The section at the end also allows the user to create a thumbnail for the video and produces a description from a template.\n",
    "\n",
    "The scripts have been generated using ChatGPT with the prompt \"Generate 10 pretty long and interesting facts about \\<Influential Figure>\". If a script is generated but no audio available then the code will create an audio file based on the script and a pre-made intro and outro. The user must add picutres to a folder of the figure and if they are available but no video produced then the code will calculate a duration for all images and create a video from these images and the audio clip.\n",
    "\n",
    "Once that is done the video will be saved to the Videos folder but a copy will be in the main repository for ease when uploading to YouTube. You then can make a thumbnail out of images in the respective figures Images file or a seperate image before adding text to the image to make it stand out. A description is also returned for easy uploading."
   ]
  },
  {
   "cell_type": "markdown",
   "id": "6ef8e9c7",
   "metadata": {},
   "source": [
    "## Load modules"
   ]
  },
  {
   "cell_type": "code",
   "execution_count": 324,
   "id": "2b232ce8",
   "metadata": {},
   "outputs": [],
   "source": [
    "import pandas as pd\n",
    "import numpy as np\n",
    "import os # Check folder contents\n",
    "import docx2txt # Import word files\n",
    "import openpyxl # Save files to Excel\n",
    "import random # For thumbnail\n",
    "from PIL import Image, ImageFont, ImageDraw, ImageFilter # Resizing thumbnail and adding text"
   ]
  },
  {
   "cell_type": "markdown",
   "id": "8ddadcc9",
   "metadata": {},
   "source": [
    "## Load/Prepare Data Files"
   ]
  },
  {
   "cell_type": "markdown",
   "id": "b8acc08d",
   "metadata": {},
   "source": [
    "### Set Locations"
   ]
  },
  {
   "cell_type": "markdown",
   "id": "08bbd93e",
   "metadata": {},
   "source": [
    "Here we set all of the locations for the data as well as loading in the pre-made Intro, Description, and Outro."
   ]
  },
  {
   "cell_type": "code",
   "execution_count": 325,
   "id": "9dd90192",
   "metadata": {},
   "outputs": [],
   "source": [
    "script_loc = \"./Scripts/\"\n",
    "images_loc = \"./Images/\"\n",
    "set_scripts_loc = \"./Set Scripts/\"\n",
    "audio_loc = \"./Audio/\"\n",
    "video_loc = \"./Video/\"\n",
    "\n",
    "# Get the Intro\n",
    "intro = docx2txt.process(set_scripts_loc + 'Intro.docx')\n",
    "\n",
    "# Get the Description\n",
    "description = docx2txt.process(set_scripts_loc + 'Description.docx')\n",
    "\n",
    "# Get the Outro\n",
    "outro = docx2txt.process(set_scripts_loc + 'Outro.docx')"
   ]
  },
  {
   "cell_type": "markdown",
   "id": "49f4a640",
   "metadata": {},
   "source": [
    "### Load the dataframe of information"
   ]
  },
  {
   "cell_type": "markdown",
   "id": "632b5a40",
   "metadata": {},
   "source": [
    "Here we load in the dataframe containing the information on the influential figures before adding the prompt and making sure we have no duplicates in the names. We the overwrite the file."
   ]
  },
  {
   "cell_type": "code",
   "execution_count": 326,
   "id": "58f55a5c",
   "metadata": {
    "scrolled": true
   },
   "outputs": [],
   "source": [
    "historical_figures_list = pd.read_excel(r'Historical Figures List.xlsx')"
   ]
  },
  {
   "cell_type": "code",
   "execution_count": 327,
   "id": "eb53d43b",
   "metadata": {
    "scrolled": true
   },
   "outputs": [],
   "source": [
    "# Create the ChatGPT prompt\n",
    "historical_figures_list['Prompt'] = \"Generate 10 pretty long and interesting facts about \" + historical_figures_list['Name']\n",
    "# Remove duplicate names\n",
    "historical_figures_list = historical_figures_list.drop_duplicates(subset = ['Name'])\n",
    "\n",
    "historical_figures_list.to_excel('Historical Figures List.xlsx', index=False)"
   ]
  },
  {
   "cell_type": "markdown",
   "id": "f0e6ad30",
   "metadata": {},
   "source": [
    "## Create Any Necessary Audio Files"
   ]
  },
  {
   "cell_type": "markdown",
   "id": "55aa5a44",
   "metadata": {},
   "source": [
    "This code checks if there are any figures who have a script saved but no audio. If there isn't any audio then the code creates some and saves it to the Audio folder with the figures name as the file name. It then updates the Excel file to show that the audio has been saved."
   ]
  },
  {
   "cell_type": "code",
   "execution_count": 328,
   "id": "13735672",
   "metadata": {},
   "outputs": [],
   "source": [
    "# Here we want to capture any figures who need audio. We can create this in one loop.\n",
    "need_audio = historical_figures_list[(historical_figures_list.Script_Created == \"Yes\") &\n",
    "                                     (historical_figures_list.AI_Voice_Generated == \"No\")]"
   ]
  },
  {
   "cell_type": "code",
   "execution_count": 329,
   "id": "6a624a63",
   "metadata": {},
   "outputs": [
    {
     "data": {
      "text/html": [
       "<div>\n",
       "<style scoped>\n",
       "    .dataframe tbody tr th:only-of-type {\n",
       "        vertical-align: middle;\n",
       "    }\n",
       "\n",
       "    .dataframe tbody tr th {\n",
       "        vertical-align: top;\n",
       "    }\n",
       "\n",
       "    .dataframe thead th {\n",
       "        text-align: right;\n",
       "    }\n",
       "</style>\n",
       "<table border=\"1\" class=\"dataframe\">\n",
       "  <thead>\n",
       "    <tr style=\"text-align: right;\">\n",
       "      <th></th>\n",
       "      <th>Figure_ID</th>\n",
       "      <th>Name</th>\n",
       "      <th>Description</th>\n",
       "      <th>Script_Created</th>\n",
       "      <th>AI_Voice_Generated</th>\n",
       "      <th>Images_Obtained</th>\n",
       "      <th>Youtube_Video_Created</th>\n",
       "      <th>Youtube_Video_Posted</th>\n",
       "      <th>Prompt</th>\n",
       "    </tr>\n",
       "  </thead>\n",
       "  <tbody>\n",
       "  </tbody>\n",
       "</table>\n",
       "</div>"
      ],
      "text/plain": [
       "Empty DataFrame\n",
       "Columns: [Figure_ID, Name, Description, Script_Created, AI_Voice_Generated, Images_Obtained, Youtube_Video_Created, Youtube_Video_Posted, Prompt]\n",
       "Index: []"
      ]
     },
     "execution_count": 329,
     "metadata": {},
     "output_type": "execute_result"
    }
   ],
   "source": [
    "need_audio"
   ]
  },
  {
   "cell_type": "code",
   "execution_count": 315,
   "id": "92bc2283",
   "metadata": {},
   "outputs": [],
   "source": [
    "# We only do this if audio is needed\n",
    "if need_audio.shape[0] > 0:\n",
    "    # These library only needed here\n",
    "    import pyttsx3 # Text to speech\n",
    "  \n",
    "    # Initialise the engine and set some parameters\n",
    "    engine = pyttsx3.init()\n",
    "\n",
    "    # Set the voice\n",
    "    engine.setProperty('voice',\n",
    "                       'HKEY_LOCAL_MACHINE\\SOFTWARE\\Microsoft\\Speech\\Voices\\Tokens\\TTS_MS_EN-US_ZIRA_11.0')\n",
    "  \n",
    "    # Set the talking rate\n",
    "    rate = engine.getProperty('rate')\n",
    "    engine.setProperty('rate', rate-50)\n",
    "\n",
    "    # Create figure filepaths\n",
    "    figure_scripts = list(need_audio.iloc[:,1].values + '.docx')\n",
    "\n",
    "    # Now want to loop through the figures, getting the script, the figures name and then\n",
    "    # saving the audio before changing the value in the Excel file for needs audio to yes.\n",
    "    for figure in figure_scripts:\n",
    "    \n",
    "        # Grab the script\n",
    "        my_text = docx2txt.process(script_loc + figure)\n",
    "    \n",
    "        # Alter the script\n",
    "        my_text = intro + \" \" + my_text + \" \" + outro \n",
    "    \n",
    "        # Return the figure's name\n",
    "        figure_name = os.path.splitext(figure)[0]\n",
    "    \n",
    "        # Create the audio location\n",
    "        audio_script_loc = audio_loc + figure_name + \".mp3\" \n",
    "    \n",
    "        # Save the file\n",
    "        engine.save_to_file(my_text, audio_script_loc)\n",
    "    \n",
    "        # Convert the No to Yes in needs audio column\n",
    "        historical_figures_list.iloc[(historical_figures_list.Name == figure_name),4] = \"Yes\"\n",
    "    \n",
    "        # Once all done stop the engine and then overwrite the Excel file\n",
    "        historical_figures_list.to_excel('Historical Figures List.xlsx', index=False)\n",
    "        \n",
    "    engine.runAndWait()\n",
    "    engine.stop()\n",
    "  "
   ]
  },
  {
   "cell_type": "markdown",
   "id": "c89148bb",
   "metadata": {},
   "source": [
    "## COMMENT OUT - THIS IS FOR MAC WILL ADJUST WHEN ABLE"
   ]
  },
  {
   "cell_type": "code",
   "execution_count": 316,
   "id": "34ad34c3",
   "metadata": {},
   "outputs": [],
   "source": [
    "#import gtts # Speech to text\n",
    "# make request to google to get synthesis\n",
    "#tts = gtts.gTTS(my_text, tld= \"co.uk\")\n",
    "# save the audio file\n",
    "#tts.save(\"hello.mp3\")"
   ]
  },
  {
   "cell_type": "code",
   "execution_count": 317,
   "id": "12a9842f",
   "metadata": {},
   "outputs": [],
   "source": [
    "# play the audio file\n",
    "# playsound(\"hello.mp3\")"
   ]
  },
  {
   "cell_type": "markdown",
   "id": "4167e8b1",
   "metadata": {},
   "source": [
    "## Check For Images"
   ]
  },
  {
   "cell_type": "markdown",
   "id": "51ba09c1",
   "metadata": {},
   "source": [
    "Next we want to check to see if there are any figures who have images in the Images folder but i have forgot to change the images value to yes"
   ]
  },
  {
   "cell_type": "code",
   "execution_count": 318,
   "id": "81b86ef8",
   "metadata": {},
   "outputs": [],
   "source": [
    "# We grab any that still need images\n",
    "need_images = historical_figures_list[(historical_figures_list.Script_Created == \"Yes\") &\n",
    "                                      (historical_figures_list.AI_Voice_Generated == \"Yes\") &\n",
    "                                      (historical_figures_list.Images_Obtained == \"No\")]"
   ]
  },
  {
   "cell_type": "code",
   "execution_count": 319,
   "id": "10366730",
   "metadata": {},
   "outputs": [],
   "source": [
    "# If there are figures with images needed we will check to see if there are actually images there and then if there\n",
    "# are we will change the images obtained value to yes.\n",
    "if need_images.shape[0] > 0:\n",
    "    \n",
    "    # List all of the figures needing images\n",
    "    figures_image = list(need_images.iloc[:,1].values)\n",
    "    \n",
    "    for figure in figures_image:\n",
    "        # Create the filepath\n",
    "        image_path = images_loc + figure\n",
    "        \n",
    "        # If there are any figures where the folder path exists\n",
    "        if os.path.exists(image_path) == True:\n",
    "            # Check the number of files and if more than zero. Make changes to document\n",
    "            if len(os.listdir(image_path + '/')) > 0:\n",
    "                historical_figures_list.iloc[(historical_figures_list.Name == figure),5] = \"Yes\"\n",
    "                historical_figures_list.to_excel('Historical Figures List.xlsx', index=False)\n",
    "          \n",
    "need_images = need_images[(need_images.Images_Obtained == \"No\")]"
   ]
  },
  {
   "cell_type": "code",
   "execution_count": 320,
   "id": "78ea93e8",
   "metadata": {},
   "outputs": [
    {
     "data": {
      "text/html": [
       "<div>\n",
       "<style scoped>\n",
       "    .dataframe tbody tr th:only-of-type {\n",
       "        vertical-align: middle;\n",
       "    }\n",
       "\n",
       "    .dataframe tbody tr th {\n",
       "        vertical-align: top;\n",
       "    }\n",
       "\n",
       "    .dataframe thead th {\n",
       "        text-align: right;\n",
       "    }\n",
       "</style>\n",
       "<table border=\"1\" class=\"dataframe\">\n",
       "  <thead>\n",
       "    <tr style=\"text-align: right;\">\n",
       "      <th></th>\n",
       "      <th>Figure_ID</th>\n",
       "      <th>Name</th>\n",
       "      <th>Description</th>\n",
       "      <th>Script_Created</th>\n",
       "      <th>AI_Voice_Generated</th>\n",
       "      <th>Images_Obtained</th>\n",
       "      <th>Youtube_Video_Created</th>\n",
       "      <th>Youtube_Video_Posted</th>\n",
       "      <th>Prompt</th>\n",
       "    </tr>\n",
       "  </thead>\n",
       "  <tbody>\n",
       "    <tr>\n",
       "      <th>2</th>\n",
       "      <td>3</td>\n",
       "      <td>Leonardo da Vinci</td>\n",
       "      <td>Polymath genius, excelling in art, science, an...</td>\n",
       "      <td>Yes</td>\n",
       "      <td>Yes</td>\n",
       "      <td>No</td>\n",
       "      <td>No</td>\n",
       "      <td>No</td>\n",
       "      <td>Generate 10 pretty long and interesting facts ...</td>\n",
       "    </tr>\n",
       "    <tr>\n",
       "      <th>3</th>\n",
       "      <td>4</td>\n",
       "      <td>Mahatma Gandhi</td>\n",
       "      <td>Leader of Indian independence movement through...</td>\n",
       "      <td>Yes</td>\n",
       "      <td>Yes</td>\n",
       "      <td>No</td>\n",
       "      <td>No</td>\n",
       "      <td>No</td>\n",
       "      <td>Generate 10 pretty long and interesting facts ...</td>\n",
       "    </tr>\n",
       "    <tr>\n",
       "      <th>4</th>\n",
       "      <td>5</td>\n",
       "      <td>Rosa Parks</td>\n",
       "      <td>Civil rights activist, sparked the Montgomery ...</td>\n",
       "      <td>Yes</td>\n",
       "      <td>Yes</td>\n",
       "      <td>No</td>\n",
       "      <td>No</td>\n",
       "      <td>No</td>\n",
       "      <td>Generate 10 pretty long and interesting facts ...</td>\n",
       "    </tr>\n",
       "    <tr>\n",
       "      <th>5</th>\n",
       "      <td>6</td>\n",
       "      <td>Isaac Newton</td>\n",
       "      <td>Physicist and mathematician, formulated laws o...</td>\n",
       "      <td>Yes</td>\n",
       "      <td>Yes</td>\n",
       "      <td>No</td>\n",
       "      <td>No</td>\n",
       "      <td>No</td>\n",
       "      <td>Generate 10 pretty long and interesting facts ...</td>\n",
       "    </tr>\n",
       "    <tr>\n",
       "      <th>6</th>\n",
       "      <td>7</td>\n",
       "      <td>Cleopatra</td>\n",
       "      <td>Last active ruler of the Ptolemaic Kingdom of ...</td>\n",
       "      <td>Yes</td>\n",
       "      <td>Yes</td>\n",
       "      <td>No</td>\n",
       "      <td>No</td>\n",
       "      <td>No</td>\n",
       "      <td>Generate 10 pretty long and interesting facts ...</td>\n",
       "    </tr>\n",
       "    <tr>\n",
       "      <th>8</th>\n",
       "      <td>9</td>\n",
       "      <td>William Shakespeare</td>\n",
       "      <td>Celebrated playwright and poet of the Elizabet...</td>\n",
       "      <td>Yes</td>\n",
       "      <td>Yes</td>\n",
       "      <td>No</td>\n",
       "      <td>No</td>\n",
       "      <td>No</td>\n",
       "      <td>Generate 10 pretty long and interesting facts ...</td>\n",
       "    </tr>\n",
       "    <tr>\n",
       "      <th>9</th>\n",
       "      <td>10</td>\n",
       "      <td>Amelia Earhart</td>\n",
       "      <td>Pioneer aviator, the first female to fly solo ...</td>\n",
       "      <td>Yes</td>\n",
       "      <td>Yes</td>\n",
       "      <td>No</td>\n",
       "      <td>No</td>\n",
       "      <td>No</td>\n",
       "      <td>Generate 10 pretty long and interesting facts ...</td>\n",
       "    </tr>\n",
       "    <tr>\n",
       "      <th>10</th>\n",
       "      <td>11</td>\n",
       "      <td>Galileo Galilei</td>\n",
       "      <td>Astronomer and physicist, known for his discov...</td>\n",
       "      <td>Yes</td>\n",
       "      <td>Yes</td>\n",
       "      <td>No</td>\n",
       "      <td>No</td>\n",
       "      <td>No</td>\n",
       "      <td>Generate 10 pretty long and interesting facts ...</td>\n",
       "    </tr>\n",
       "    <tr>\n",
       "      <th>11</th>\n",
       "      <td>12</td>\n",
       "      <td>Joan of Arc</td>\n",
       "      <td>Heroine and military leader during the Hundred...</td>\n",
       "      <td>Yes</td>\n",
       "      <td>Yes</td>\n",
       "      <td>No</td>\n",
       "      <td>No</td>\n",
       "      <td>No</td>\n",
       "      <td>Generate 10 pretty long and interesting facts ...</td>\n",
       "    </tr>\n",
       "    <tr>\n",
       "      <th>12</th>\n",
       "      <td>14</td>\n",
       "      <td>Alexander the Great</td>\n",
       "      <td>Ancient Greek military genius, conquered vast ...</td>\n",
       "      <td>Yes</td>\n",
       "      <td>Yes</td>\n",
       "      <td>No</td>\n",
       "      <td>No</td>\n",
       "      <td>No</td>\n",
       "      <td>Generate 10 pretty long and interesting facts ...</td>\n",
       "    </tr>\n",
       "    <tr>\n",
       "      <th>80</th>\n",
       "      <td>95</td>\n",
       "      <td>J. R. R. Tolkien</td>\n",
       "      <td>English Author of the lord of the rings</td>\n",
       "      <td>Yes</td>\n",
       "      <td>Yes</td>\n",
       "      <td>No</td>\n",
       "      <td>No</td>\n",
       "      <td>No</td>\n",
       "      <td>Generate 10 pretty long and interesting facts ...</td>\n",
       "    </tr>\n",
       "  </tbody>\n",
       "</table>\n",
       "</div>"
      ],
      "text/plain": [
       "    Figure_ID                 Name  \\\n",
       "2           3    Leonardo da Vinci   \n",
       "3           4       Mahatma Gandhi   \n",
       "4           5           Rosa Parks   \n",
       "5           6         Isaac Newton   \n",
       "6           7            Cleopatra   \n",
       "8           9  William Shakespeare   \n",
       "9          10       Amelia Earhart   \n",
       "10         11      Galileo Galilei   \n",
       "11         12          Joan of Arc   \n",
       "12         14  Alexander the Great   \n",
       "80         95     J. R. R. Tolkien   \n",
       "\n",
       "                                          Description Script_Created  \\\n",
       "2   Polymath genius, excelling in art, science, an...            Yes   \n",
       "3   Leader of Indian independence movement through...            Yes   \n",
       "4   Civil rights activist, sparked the Montgomery ...            Yes   \n",
       "5   Physicist and mathematician, formulated laws o...            Yes   \n",
       "6   Last active ruler of the Ptolemaic Kingdom of ...            Yes   \n",
       "8   Celebrated playwright and poet of the Elizabet...            Yes   \n",
       "9   Pioneer aviator, the first female to fly solo ...            Yes   \n",
       "10  Astronomer and physicist, known for his discov...            Yes   \n",
       "11  Heroine and military leader during the Hundred...            Yes   \n",
       "12  Ancient Greek military genius, conquered vast ...            Yes   \n",
       "80            English Author of the lord of the rings            Yes   \n",
       "\n",
       "   AI_Voice_Generated Images_Obtained Youtube_Video_Created  \\\n",
       "2                 Yes              No                    No   \n",
       "3                 Yes              No                    No   \n",
       "4                 Yes              No                    No   \n",
       "5                 Yes              No                    No   \n",
       "6                 Yes              No                    No   \n",
       "8                 Yes              No                    No   \n",
       "9                 Yes              No                    No   \n",
       "10                Yes              No                    No   \n",
       "11                Yes              No                    No   \n",
       "12                Yes              No                    No   \n",
       "80                Yes              No                    No   \n",
       "\n",
       "   Youtube_Video_Posted                                             Prompt  \n",
       "2                    No  Generate 10 pretty long and interesting facts ...  \n",
       "3                    No  Generate 10 pretty long and interesting facts ...  \n",
       "4                    No  Generate 10 pretty long and interesting facts ...  \n",
       "5                    No  Generate 10 pretty long and interesting facts ...  \n",
       "6                    No  Generate 10 pretty long and interesting facts ...  \n",
       "8                    No  Generate 10 pretty long and interesting facts ...  \n",
       "9                    No  Generate 10 pretty long and interesting facts ...  \n",
       "10                   No  Generate 10 pretty long and interesting facts ...  \n",
       "11                   No  Generate 10 pretty long and interesting facts ...  \n",
       "12                   No  Generate 10 pretty long and interesting facts ...  \n",
       "80                   No  Generate 10 pretty long and interesting facts ...  "
      ]
     },
     "execution_count": 320,
     "metadata": {},
     "output_type": "execute_result"
    }
   ],
   "source": [
    "need_images"
   ]
  },
  {
   "cell_type": "markdown",
   "id": "582e293a",
   "metadata": {},
   "source": [
    "If there are no images for any figures which have audio complete then we need to find some imgaes. To do this we will use Selenium and google image search for each figure. We then will loop through images and allow the user to reply y/n until 10 images have been selected."
   ]
  },
  {
   "cell_type": "code",
   "execution_count": null,
   "id": "13da896e",
   "metadata": {},
   "outputs": [],
   "source": [
    "# We only do this if images are needed\n",
    "if need_images.shape[0] > 0:\n",
    "    \n",
    "    from selenium import webdriver\n",
    "    #from selenium.webdriver.common.keys import Keys\n",
    "    \n",
    "    # List all of the figures needing images\n",
    "    figures_image = list(need_images.iloc[:,1].values)\n",
    "    \n",
    "    # Loop a google images search across figures.\n",
    "    for figure in figures_image:\n",
    "        # Create the filepath\n",
    "        image_path = images_loc + figure\n",
    "        \n",
    "        # Create the figure directory to save the images if needed\n",
    "        isExist = os.path.exists(image_path)\n",
    "        if not isExist:\n",
    "            os.makedirs(image_path)\n",
    "        \n",
    "        #----GOOGLE IMAGE SEARCH CODE----#\n",
    "        \n",
    "        # What you enter here will be searched for in Google Images\n",
    "        query = figure\n",
    "\n",
    "        # Creating a webdriver instance\n",
    "        driver = webdriver.Chrome()\n",
    "\n",
    "        # Maximize the screen\n",
    "        driver.maximize_window()\n",
    "\n",
    "        # Open Google Images in the browser\n",
    "        driver.get('https://images.google.com/')\n",
    "\n",
    "        # Clear cookies - INSPECT and then use click option then copy xpath\n",
    "        driver.find_element('xpath', '//*[@id=\"L2AGLb\"]').click()\n",
    "\n",
    "        # Finding the search box - INSPECT and then use click option then copy xpath\n",
    "        box = driver.find_element(\"xpath\", '//*[@id=\"APjFqb\"]')\n",
    "\n",
    "        # Type the search query in the search box\n",
    "        box.send_keys(query)\n",
    "\n",
    "        # Pressing enter\n",
    "        #box.send_keys(Keys.ENTER)\n",
    "        \n",
    "        # click the search button - INSPECT and then use click option then copy xpath\n",
    "        driver.find_element('xpath', '/html/body/div[1]/div[3]/form/div[1]/div[1]/div[1]/button').click()\n",
    "        \n",
    "        # Now we want to loop across the images to let user selected whether to keep or not\n",
    "        i = 1\n",
    "        images_kept = 0\n",
    "        while images_kept < 10:\n",
    "            # Here i represents the image shown on the screen - want to click it to expand\n",
    "            driver.find_element('xpath','//*[@id=\"islrg\"]/div[1]/div[' + str(i) + ']/a[1]/div[1]/img').click()\n",
    "\n",
    "            # Get the image aspect of the expanded image - INSPECT and then use click option then copy xpath\n",
    "            imgResults = driver.find_element('xpath',\n",
    "                                             '//*[@id=\"Sva75c\"]/div[2]/div/div[2]/div[2]/div[2]/c-wiz/div/div' +\n",
    "                                             '/div/div[3]/div[1]/a/img[1]')\n",
    "\n",
    "            # Save the image\n",
    "            imgResults.screenshot('test.png')\n",
    "\n",
    "            # Load as image object\n",
    "            selected_clicked_image = Image.open('test.png')\n",
    "\n",
    "            # This plots the image so we can see it\n",
    "            %matplotlib inline\n",
    "            import matplotlib.pyplot as plt\n",
    "            import matplotlib.image as mpimg\n",
    "            img = mpimg.imread('test.png')\n",
    "            imgplot = plt.imshow(img)\n",
    "            plt.show()\n",
    "    \n",
    "            # Text to display to give option of saving image\n",
    "            keep = input(figure + \" Image \" + str(images_kept + 1) + \" - Keep this image? Y or N: \")\n",
    "    \n",
    "            # If keep then save the image and increment\n",
    "            if keep == \"Y\" or keep == \"y\":\n",
    "                selected_clicked_image.save(image_path + \"/\" + str(images_kept + 1) + '.png')\n",
    "                images_kept += 1\n",
    "    \n",
    "            i += 1\n",
    "        \n",
    "        # Change the image obtained to yes for the specified figure and save\n",
    "        historical_figures_list.iloc[(historical_figures_list.Name == figure),5] = \"Yes\"\n",
    "        historical_figures_list.to_excel('Historical Figures List.xlsx', index=False)\n",
    "        \n",
    "        # Remove the test image\n",
    "        os.remove('test.png')\n",
    "        \n",
    "        # Close the driver\n",
    "        driver.minimize_window()\n",
    "        driver.close()\n",
    "\n",
    "    "
   ]
  },
  {
   "cell_type": "markdown",
   "id": "5be9ff6c",
   "metadata": {},
   "source": [
    "## Add Video"
   ]
  },
  {
   "cell_type": "markdown",
   "id": "21f893be",
   "metadata": {},
   "source": [
    "Next we wish to check if any figures have a script, an audio and images available but there is no video recorded. If this is the case then the code will loop through the figures and combine the audio and images together to create a vide and save it in the Video folder before finally adjusting the table to show this."
   ]
  },
  {
   "cell_type": "code",
   "execution_count": 321,
   "id": "1ddb2a2b",
   "metadata": {},
   "outputs": [],
   "source": [
    "# We will grab any figures who have a script and audio complete but no video.\n",
    "need_video = historical_figures_list[(historical_figures_list.Script_Created == \"Yes\") &\n",
    "                                     (historical_figures_list.AI_Voice_Generated == \"Yes\") &\n",
    "                                     (historical_figures_list.Images_Obtained == \"Yes\") &\n",
    "                                     (historical_figures_list.Youtube_Video_Created == \"No\")]"
   ]
  },
  {
   "cell_type": "code",
   "execution_count": 322,
   "id": "e50d5546",
   "metadata": {},
   "outputs": [
    {
     "data": {
      "text/html": [
       "<div>\n",
       "<style scoped>\n",
       "    .dataframe tbody tr th:only-of-type {\n",
       "        vertical-align: middle;\n",
       "    }\n",
       "\n",
       "    .dataframe tbody tr th {\n",
       "        vertical-align: top;\n",
       "    }\n",
       "\n",
       "    .dataframe thead th {\n",
       "        text-align: right;\n",
       "    }\n",
       "</style>\n",
       "<table border=\"1\" class=\"dataframe\">\n",
       "  <thead>\n",
       "    <tr style=\"text-align: right;\">\n",
       "      <th></th>\n",
       "      <th>Figure_ID</th>\n",
       "      <th>Name</th>\n",
       "      <th>Description</th>\n",
       "      <th>Script_Created</th>\n",
       "      <th>AI_Voice_Generated</th>\n",
       "      <th>Images_Obtained</th>\n",
       "      <th>Youtube_Video_Created</th>\n",
       "      <th>Youtube_Video_Posted</th>\n",
       "      <th>Prompt</th>\n",
       "    </tr>\n",
       "  </thead>\n",
       "  <tbody>\n",
       "  </tbody>\n",
       "</table>\n",
       "</div>"
      ],
      "text/plain": [
       "Empty DataFrame\n",
       "Columns: [Figure_ID, Name, Description, Script_Created, AI_Voice_Generated, Images_Obtained, Youtube_Video_Created, Youtube_Video_Posted, Prompt]\n",
       "Index: []"
      ]
     },
     "execution_count": 322,
     "metadata": {},
     "output_type": "execute_result"
    }
   ],
   "source": [
    "need_video"
   ]
  },
  {
   "cell_type": "code",
   "execution_count": 277,
   "id": "a6ff1a0b",
   "metadata": {
    "scrolled": true
   },
   "outputs": [
    {
     "name": "stdout",
     "output_type": "stream",
     "text": [
      "Moviepy - Building video test.mp4.\n",
      "Moviepy - Writing video test.mp4\n",
      "\n"
     ]
    },
    {
     "name": "stderr",
     "output_type": "stream",
     "text": [
      "                                                                                                                       \r"
     ]
    },
    {
     "name": "stdout",
     "output_type": "stream",
     "text": [
      "Moviepy - Done !\n",
      "Moviepy - video ready test.mp4\n",
      "Moviepy - Building video ./Video/William Shakespeare.mp4.\n",
      "MoviePy - Writing audio in William ShakespeareTEMP_MPY_wvf_snd.mp3\n"
     ]
    },
    {
     "name": "stderr",
     "output_type": "stream",
     "text": [
      "                                                                                                                       \r"
     ]
    },
    {
     "name": "stdout",
     "output_type": "stream",
     "text": [
      "MoviePy - Done.\n",
      "Moviepy - Writing video ./Video/William Shakespeare.mp4\n",
      "\n"
     ]
    },
    {
     "name": "stderr",
     "output_type": "stream",
     "text": [
      "                                                                                                                       "
     ]
    },
    {
     "name": "stdout",
     "output_type": "stream",
     "text": [
      "Moviepy - Done !\n",
      "Moviepy - video ready ./Video/William Shakespeare.mp4\n"
     ]
    },
    {
     "name": "stderr",
     "output_type": "stream",
     "text": [
      "\r"
     ]
    }
   ],
   "source": [
    "if need_video.shape[0] > 0:\n",
    "    from moviepy.editor import *\n",
    "    os.environ[\"IMAGEIO_FFMPEG_EXE\"] = \"ffmpeg\"\n",
    "    # Get the figures who need a video making\n",
    "    figure_video = list(need_video.iloc[:,1].values)\n",
    "    \n",
    "    for figure in figure_video:\n",
    "        # Get the locations\n",
    "        audio_location = audio_loc + figure + '.mp3'\n",
    "        image_location = images_loc + figure + '/'\n",
    "        video_location = video_loc + figure + '.mp4'\n",
    "        \n",
    "        # Add audio clip and get the duration\n",
    "        audio_clip = AudioFileClip(audio_location)\n",
    "        audio_duration = audio_clip.duration\n",
    "        \n",
    "        # Get the time each image will show for\n",
    "        number_of_images = len(os.listdir(image_location))\n",
    "        image_duration = audio_duration / number_of_images\n",
    "        \n",
    "        # Here we create the frames for each image and their duration\n",
    "        img_names = os.listdir(image_location)\n",
    "        img = list(image_location + img for img in img_names)\n",
    "        clips = [ImageClip(m).set_duration(image_duration)\n",
    "                 for m in img]\n",
    "\n",
    "        # Combine the images together into a single clip\n",
    "        concat_clip = concatenate_videoclips(clips, method=\"compose\")\n",
    "        \n",
    "        # Write the video\n",
    "        concat_clip.write_videofile(\"test.mp4\", fps = 24)\n",
    "        \n",
    "        # Load video\n",
    "        video_clip = VideoFileClip(\"test.mp4\")\n",
    "        # add the audio\n",
    "        video_clip.audio = audio_clip\n",
    "        # Write the video with audio included\n",
    "        video_clip.write_videofile(video_location)\n",
    "        \n",
    "        # Remove the test video\n",
    "        #os.remove(\"test.mp4\")\n",
    "        \n",
    "        # Add Yes to the video created column\n",
    "        historical_figures_list.iloc[(historical_figures_list.Name == figure),6] = \"Yes\"\n",
    "        historical_figures_list.to_excel('Historical Figures List.xlsx', index=False)"
   ]
  },
  {
   "cell_type": "markdown",
   "id": "56eb4dcd",
   "metadata": {},
   "source": [
    "## Functions for Youtube Upload"
   ]
  },
  {
   "cell_type": "markdown",
   "id": "b9b0dfc0",
   "metadata": {},
   "source": [
    "Here are the functions used in the upload process"
   ]
  },
  {
   "cell_type": "code",
   "execution_count": 15,
   "id": "513ea48e",
   "metadata": {},
   "outputs": [],
   "source": [
    "def create_description(string, string_to_replace, figure):\n",
    "    # Create YouTube description\n",
    "    modified_string = string.replace(string_to_replace, figure)\n",
    "    print(modified_string)"
   ]
  },
  {
   "cell_type": "code",
   "execution_count": 16,
   "id": "f02a576f",
   "metadata": {},
   "outputs": [],
   "source": [
    "def move_video(figure):\n",
    "    # We want to move the video to the main file directory\n",
    "    import shutil\n",
    "    video_location = video_loc + figure + '.mp4'\n",
    "    shutil.copy2(video_location, \"video.mp4\")"
   ]
  },
  {
   "cell_type": "code",
   "execution_count": 260,
   "id": "e4344bf9",
   "metadata": {
    "scrolled": true
   },
   "outputs": [],
   "source": [
    "def thumbnail_generator(image_location, title_text, YT_logo_location, YT_channel,\n",
    "                       font_location, save_location):\n",
    "\n",
    "    # Add image as an object\n",
    "    my_image = Image.open(image_location)\n",
    "\n",
    "    # 1280 × 720 pixels - thumbnail size\n",
    "    max_image_size = (1280, 720)\n",
    "\n",
    "    # Set the image size to the max\n",
    "    my_image.thumbnail(max_image_size)\n",
    "\n",
    "    ### PROFILE PICTURE IN CORNER ###\n",
    "    # Add the youtube profile picture\n",
    "    profile_pic = Image.open(YT_logo_location).convert(\"RGBA\")\n",
    "    # Add random background, doesn't matter what\n",
    "    background = Image.new(\"RGBA\", profile_pic.size, (0,0,0,0))\n",
    "\n",
    "    mask = Image.new(\"RGBA\", profile_pic.size, 0)\n",
    "    draw = ImageDraw.Draw(mask)\n",
    "    \n",
    "    # Crop the circle\n",
    "    draw.ellipse((0,0,int(profile_pic.size[0]),int(profile_pic.size[0])),\n",
    "                 fill='green', outline=None)\n",
    "\n",
    "    # Make the image\n",
    "    profile_pic = Image.composite(profile_pic, background, mask)\n",
    "\n",
    "    # resize profile pic\n",
    "    profile_pic = profile_pic.resize((200, 200))\n",
    "\n",
    "    ### GET DOMINANT COLOUR FOR BACKGROUND AND TEXT COLOUR ###\n",
    "    \n",
    "    # Get the dominant colour of the image\n",
    "    from colorthief import ColorThief\n",
    "    color_thief = ColorThief(image_location)\n",
    "    # get the dominant color\n",
    "    dominant_color = color_thief.get_color(quality=1)\n",
    "\n",
    "    # To get whether text will be white or black\n",
    "    if (0.299 * dominant_color[0]) + (0.587 * dominant_color[1]) + (0.114 * dominant_color[2]) > 186:\n",
    "        contrast_colour = tuple([0, 0, 0])\n",
    "    else: \n",
    "            contrast_colour= tuple([255, 255, 255])\n",
    "\n",
    "    ### PASTE IMAGES TOGETHER ###\n",
    "    \n",
    "    # Sizing down image \n",
    "    my_image = my_image.resize((int(500), 680))\n",
    "\n",
    "    # Create background and add the border and background image\n",
    "    # Border\n",
    "    img = Image.new('RGB', (1280, 720), color = contrast_colour)\n",
    "    # Background\n",
    "    img2 = Image.new('RGB', (1260, 700), color = dominant_color)\n",
    "    # paste background image on to border image\n",
    "    img.paste(img2, (10, 10))\n",
    "    # Add my image on top\n",
    "    img.paste(my_image, (20, 20))\n",
    "    # Add the profile pic\n",
    "    img.paste(profile_pic, (1060, 500), mask = profile_pic)\n",
    "\n",
    "    ### FONTSIZE GENERATOR ###\n",
    "    \n",
    "    # Get the text for the title\n",
    "    title_text = title_text\n",
    "    fontsize = 1  # starting font size\n",
    "    # Get the font and initialise the size\n",
    "    font = ImageFont.truetype(font_location, fontsize)\n",
    "    # Remaining size of image\n",
    "    breakpoint = 720\n",
    "    # Large jumps to speed up process\n",
    "    jumpsize = 75\n",
    "\n",
    "    # Loops through fontsizes and finds the max which fits all of the text\n",
    "    while True:\n",
    "        if font.getsize(title_text)[0] < breakpoint:\n",
    "            fontsize += jumpsize\n",
    "        else:\n",
    "            jumpsize = jumpsize // 2\n",
    "            fontsize -= jumpsize\n",
    "        font = ImageFont.truetype(font_location, fontsize)\n",
    "        if jumpsize <= 1:\n",
    "            break\n",
    "\n",
    "    # This returned huge font for small number of characters so workaround in place\n",
    "    # This was done with trial and error\n",
    "    if fontsize > 190:\n",
    "        fontsize = 190\n",
    "        font = ImageFont.truetype(font_location, fontsize)\n",
    "        subtitle_size = int(fontsize / 2)\n",
    "        start_pos = -20\n",
    "        subtitle_start = 160\n",
    "    elif fontsize <= 100:\n",
    "        subtitle_size = 90\n",
    "        start_pos = 20\n",
    "        subtitle_start = 50 + int(fontsize / 2)\n",
    "    else:\n",
    "        subtitle_size = int(fontsize / 2)\n",
    "        start_pos = - 10\n",
    "        subtitle_start = 80 + int(fontsize / 2)\n",
    "\n",
    "    # Allow for drawing on the image\n",
    "    image_editable = ImageDraw.Draw(img)\n",
    "\n",
    "    # Add the title\n",
    "    image_editable.text((540, start_pos), title_text, contrast_colour, font = font)\n",
    "\n",
    "    # Add the subtitle\n",
    "    title_font = ImageFont.truetype(font_choice, subtitle_size )\n",
    "    title_text = \"10 Interesting Facts\"\n",
    "    image_editable.text((540, subtitle_start), title_text, contrast_colour, font = title_font)\n",
    "\n",
    "    # Add the youtube handle\n",
    "    title_font = ImageFont.truetype(font_choice, 40)\n",
    "    title_text = YT_channel\n",
    "    image_editable.text((540, 655), title_text, contrast_colour, font = title_font)\n",
    "\n",
    "    print(fontsize)\n",
    "    img.show()\n",
    "\n",
    "    img.save(save_location)\n"
   ]
  },
  {
   "cell_type": "markdown",
   "id": "27e09da0",
   "metadata": {},
   "source": [
    "## Youtube Preparation"
   ]
  },
  {
   "cell_type": "code",
   "execution_count": 279,
   "id": "3a891e6b",
   "metadata": {},
   "outputs": [],
   "source": [
    "move_video('Nelson Mandela')"
   ]
  },
  {
   "cell_type": "code",
   "execution_count": 288,
   "id": "a7d69eb3",
   "metadata": {
    "scrolled": true
   },
   "outputs": [
    {
     "name": "stdout",
     "output_type": "stream",
     "text": [
      "Welcome to Figures in History! In this episode, we delve into the life and legacy of Nelson Mandela. Join us as we uncover ten key facts about this influential individual who left an indelible mark on history. From their groundbreaking achievements to their remarkable journey, we explore the captivating story behind Nelson Mandela\n",
      "\n",
      "Subscribe to Figures in History for more captivating stories of influential figures who shaped our world. Don't forget to hit the notification bell to stay updated with our latest episodes. We value your input, so leave a comment below and let us know which historical figure you'd like to see featured in future episodes. Your suggestions matter to us\n",
      "\n",
      "Join us on this incredible journey through time and discover the inspiring stories that have shaped our world. Remember, it's through understanding the past that we shape a brighter future. So, grab a seat and prepare to be amazed by the remarkable life of Nelson Mandela.\n",
      "\n",
      "I have used several techniques to generate this video\n",
      "\n",
      "--------------------------------------------------------------------------------\n",
      "\n",
      "Script – ChatGPT with prompt “Generate 10 pretty long and interesting facts about Nelson Mandela”\n",
      "\n",
      "Images – Python image scraping\n",
      "\n",
      "Audio – Python text-to-speech to convert the script to an MP3 file\n",
      "\n",
      "Video – Python to combine the audio and images\n",
      "\n",
      "Thumbnail – Python image editing techniques\n",
      "\n",
      "--------------------------------------------------------------------------------\n",
      "\n",
      "DISCLAIMER – As I am using ChatGPT for the script, some facts may be inaccurate. If you spot any inaccuracies please let me know in the comments.\n",
      "\n",
      "\n",
      "\n",
      "#Nelson Mandela #History #HistoricalFigures #Learning #Facts\n"
     ]
    }
   ],
   "source": [
    "create_description(description, \"[Historical Figure]\", 'Nelson Mandela')"
   ]
  },
  {
   "cell_type": "code",
   "execution_count": 283,
   "id": "bab5dbf4",
   "metadata": {},
   "outputs": [
    {
     "name": "stdout",
     "output_type": "stream",
     "text": [
      "123\n"
     ]
    }
   ],
   "source": [
    "thumbnail_generator(image_location = \"./Images/Nelson Mandela/8.jpg\",\n",
    "                    title_text = \"Nelson Mandela\",\n",
    "                    YT_logo_location = 'YT Profile.jpg',\n",
    "                    YT_channel = \"@Figures_In_History\",\n",
    "                    font_location = \"./Fonts/Bebas-Regular.ttf\",\n",
    "                    save_location = \"thumbnail.png\")"
   ]
  },
  {
   "cell_type": "code",
   "execution_count": null,
   "id": "d3788374",
   "metadata": {},
   "outputs": [],
   "source": []
  }
 ],
 "metadata": {
  "kernelspec": {
   "display_name": "Python 3 (ipykernel)",
   "language": "python",
   "name": "python3"
  },
  "language_info": {
   "codemirror_mode": {
    "name": "ipython",
    "version": 3
   },
   "file_extension": ".py",
   "mimetype": "text/x-python",
   "name": "python",
   "nbconvert_exporter": "python",
   "pygments_lexer": "ipython3",
   "version": "3.8.16"
  }
 },
 "nbformat": 4,
 "nbformat_minor": 5
}
